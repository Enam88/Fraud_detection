{
  "cells": [
    {
      "cell_type": "code",
      "execution_count": null,
      "metadata": {
        "id": "e_pwiDFkgutt"
      },
      "outputs": [],
      "source": [
        "import pandas as pd"
      ]
    },
    {
      "cell_type": "code",
      "execution_count": null,
      "metadata": {
        "id": "d0Sozk68gutw"
      },
      "outputs": [],
      "source": [
        "df = pd.read_csv('Fraud_Data.csv')"
      ]
    },
    {
      "cell_type": "code",
      "execution_count": null,
      "metadata": {
        "id": "essvImm9gutz",
        "outputId": "6acd09eb-6e49-4a9f-a45d-74c3b240ab60"
      },
      "outputs": [
        {
          "data": {
            "text/plain": [
              "(151112, 11)"
            ]
          },
          "execution_count": 3,
          "metadata": {},
          "output_type": "execute_result"
        }
      ],
      "source": [
        "df.shape"
      ]
    },
    {
      "cell_type": "code",
      "execution_count": null,
      "metadata": {
        "id": "HgseNVZngut1"
      },
      "outputs": [],
      "source": [
        "X = df.drop('class', axis=1)"
      ]
    },
    {
      "cell_type": "code",
      "execution_count": null,
      "metadata": {
        "id": "-mW9DK8Ggut3",
        "outputId": "74263868-4e78-40f4-bce7-15297930da90"
      },
      "outputs": [
        {
          "data": {
            "text/plain": [
              "(151112, 10)"
            ]
          },
          "execution_count": 9,
          "metadata": {},
          "output_type": "execute_result"
        }
      ],
      "source": [
        "X.shape"
      ]
    },
    {
      "cell_type": "code",
      "execution_count": null,
      "metadata": {
        "id": "l3zyJNCugut4"
      },
      "outputs": [],
      "source": [
        "y = df['class']"
      ]
    },
    {
      "cell_type": "code",
      "execution_count": null,
      "metadata": {
        "id": "TwLq9ZGEgut6"
      },
      "outputs": [],
      "source": [
        "from sklearn.feature_extraction.text import TfidfVectorizer\n",
        "\n",
        "# TfidVectorizer"
      ]
    },
    {
      "cell_type": "code",
      "execution_count": null,
      "metadata": {
        "id": "zqoK5BJ-gut7"
      },
      "outputs": [],
      "source": [
        "# Most of the raw features we had don't seem to correlate so well with fraud vs not fraud\n",
        "\n",
        "# [Featre Engineering]\n",
        "# The time difference could be useful\n",
        "# The country information could also be useful"
      ]
    },
    {
      "cell_type": "code",
      "execution_count": null,
      "metadata": {
        "id": "d3vVdnGLgut9"
      },
      "outputs": [],
      "source": [
        "from sklearn.model_selection import train_test_split\n",
        "\n",
        "X_train, X_test, y_train, y_test = train_test_split(X, y)"
      ]
    },
    {
      "cell_type": "code",
      "execution_count": null,
      "metadata": {
        "id": "7zwc9OX0guuA"
      },
      "outputs": [],
      "source": [
        "# Assume a Naive Model\n",
        "\n",
        "from sklearn.dummy import DummyClassifier\n",
        "\n",
        "DummyClassifier?"
      ]
    },
    {
      "cell_type": "code",
      "execution_count": null,
      "metadata": {
        "id": "4cpjPoHBguuB"
      },
      "outputs": [],
      "source": [
        "# What is our problem?\n",
        "# Well, we want to detect fraud in commercial transactions\n",
        "# So we can either say something is Fraud or not Fraud"
      ]
    },
    {
      "cell_type": "code",
      "execution_count": null,
      "metadata": {
        "id": "NrIJLRSrguuC"
      },
      "outputs": [],
      "source": [
        "# We can say that it's really important that we identify all instances of fraud\n",
        "# So in general, it's OK if we misclassify a transaction as fraudulent when it's not reall\n",
        "# If we call a fraudulent transaction as +\n",
        "# Then what do we care about more? Precision or Recall?\n",
        "# Given our problem statement, we want high recall"
      ]
    },
    {
      "cell_type": "code",
      "execution_count": null,
      "metadata": {
        "id": "L4Wz8JLfguuC"
      },
      "outputs": [],
      "source": [
        "DummyClassifier"
      ]
    },
    {
      "cell_type": "code",
      "execution_count": null,
      "metadata": {
        "id": "ZKNG_DGDguuD"
      },
      "outputs": [],
      "source": [
        "model_naive = DummyClassifier(strategy=\"constant\", constant=1).fit(X_train, y_train)\n",
        "#.predict(X_test)"
      ]
    },
    {
      "cell_type": "code",
      "execution_count": null,
      "metadata": {
        "id": "qjFJMZZMguuD"
      },
      "outputs": [],
      "source": [
        "from sklearn.metrics import recall_score, f1_score"
      ]
    },
    {
      "cell_type": "code",
      "execution_count": null,
      "metadata": {
        "id": "keIz2nQoguuE",
        "outputId": "2c591355-5722-4dc0-821b-7b7fd2c21027"
      },
      "outputs": [
        {
          "data": {
            "text/plain": [
              "1.0"
            ]
          },
          "execution_count": 44,
          "metadata": {},
          "output_type": "execute_result"
        }
      ],
      "source": [
        "recall_score(y_test, y_pred)"
      ]
    },
    {
      "cell_type": "code",
      "execution_count": null,
      "metadata": {
        "id": "EcXB5PJ3guuE"
      },
      "outputs": [],
      "source": [
        "DummyClassifier?"
      ]
    },
    {
      "cell_type": "code",
      "execution_count": null,
      "metadata": {
        "id": "qEJMEau4guuF",
        "outputId": "e21602d5-fa7c-4a0a-84e0-84ab6362c48c"
      },
      "outputs": [
        {
          "data": {
            "text/plain": [
              "0.09310533467450191"
            ]
          },
          "execution_count": 45,
          "metadata": {},
          "output_type": "execute_result"
        }
      ],
      "source": [
        "y_train.mean()"
      ]
    },
    {
      "cell_type": "code",
      "execution_count": null,
      "metadata": {
        "id": "EFOU4m6kguuG",
        "outputId": "8a585d1f-f873-4106-96a7-7d4b384a8a40"
      },
      "outputs": [
        {
          "data": {
            "text/plain": [
              "0.173961379510356"
            ]
          },
          "execution_count": 47,
          "metadata": {},
          "output_type": "execute_result"
        }
      ],
      "source": [
        "f1_score(y_test, y_pred)"
      ]
    },
    {
      "cell_type": "code",
      "execution_count": null,
      "metadata": {
        "id": "BZpJISVZguuQ"
      },
      "outputs": [],
      "source": [
        "def evaluate_model(model, X, y, mode):\n",
        "    y_pred = model.predict(X)\n",
        "    recall = recall_score(y, y_pred)\n",
        "    f1 = f1_score(y, y_pred)\n",
        "    \n",
        "    print(f\"{mode} recall: {recall :g}\")\n",
        "    print(f\"{mode} F-1 score: {f1 :g}\")"
      ]
    },
    {
      "cell_type": "code",
      "execution_count": null,
      "metadata": {
        "id": "LSPeopBYguuQ",
        "outputId": "3bc4cfda-f8e8-4dfd-c6fc-e16887af4d58"
      },
      "outputs": [
        {
          "name": "stdout",
          "output_type": "stream",
          "text": [
            "Training recall: 1\n",
            "Training F-1 score: 0.17035\n"
          ]
        }
      ],
      "source": [
        "evaluate_model(model_naive, X_train, y_train, \"Training\")"
      ]
    },
    {
      "cell_type": "code",
      "execution_count": null,
      "metadata": {
        "id": "5LNWVWPoguuR",
        "outputId": "84057417-d319-4c1f-af1d-a54df338b76f"
      },
      "outputs": [
        {
          "name": "stdout",
          "output_type": "stream",
          "text": [
            "Testing recall: 1\n",
            "Testing F-1 score: 0.173961\n"
          ]
        }
      ],
      "source": [
        "evaluate_model(model_naive, X_test, y_test, \"Testing\")"
      ]
    },
    {
      "cell_type": "code",
      "execution_count": null,
      "metadata": {
        "id": "OSxx7DrYguuR",
        "outputId": "63a7e62d-d85a-4857-e5b1-04ba21acfdcf"
      },
      "outputs": [
        {
          "data": {
            "text/html": [
              "<div>\n",
              "<style scoped>\n",
              "    .dataframe tbody tr th:only-of-type {\n",
              "        vertical-align: middle;\n",
              "    }\n",
              "\n",
              "    .dataframe tbody tr th {\n",
              "        vertical-align: top;\n",
              "    }\n",
              "\n",
              "    .dataframe thead th {\n",
              "        text-align: right;\n",
              "    }\n",
              "</style>\n",
              "<table border=\"1\" class=\"dataframe\">\n",
              "  <thead>\n",
              "    <tr style=\"text-align: right;\">\n",
              "      <th></th>\n",
              "      <th>user_id</th>\n",
              "      <th>signup_time</th>\n",
              "      <th>purchase_time</th>\n",
              "      <th>purchase_value</th>\n",
              "      <th>device_id</th>\n",
              "      <th>source</th>\n",
              "      <th>browser</th>\n",
              "      <th>sex</th>\n",
              "      <th>age</th>\n",
              "      <th>ip_address</th>\n",
              "    </tr>\n",
              "  </thead>\n",
              "  <tbody>\n",
              "    <tr>\n",
              "      <th>14017</th>\n",
              "      <td>396324</td>\n",
              "      <td>2015-05-14 20:04:14</td>\n",
              "      <td>2015-09-11 07:33:18</td>\n",
              "      <td>36</td>\n",
              "      <td>IFEEJSFSPORAV</td>\n",
              "      <td>SEO</td>\n",
              "      <td>Chrome</td>\n",
              "      <td>M</td>\n",
              "      <td>27</td>\n",
              "      <td>1.976885e+09</td>\n",
              "    </tr>\n",
              "    <tr>\n",
              "      <th>55601</th>\n",
              "      <td>145984</td>\n",
              "      <td>2015-04-28 17:24:46</td>\n",
              "      <td>2015-06-29 03:02:25</td>\n",
              "      <td>45</td>\n",
              "      <td>UVBMLYAOPJVAC</td>\n",
              "      <td>Ads</td>\n",
              "      <td>Safari</td>\n",
              "      <td>F</td>\n",
              "      <td>26</td>\n",
              "      <td>2.796086e+09</td>\n",
              "    </tr>\n",
              "    <tr>\n",
              "      <th>121348</th>\n",
              "      <td>203232</td>\n",
              "      <td>2015-03-06 08:33:15</td>\n",
              "      <td>2015-05-31 07:45:21</td>\n",
              "      <td>52</td>\n",
              "      <td>XASNZETNPFZTQ</td>\n",
              "      <td>Ads</td>\n",
              "      <td>IE</td>\n",
              "      <td>M</td>\n",
              "      <td>41</td>\n",
              "      <td>1.310155e+09</td>\n",
              "    </tr>\n",
              "    <tr>\n",
              "      <th>69508</th>\n",
              "      <td>205260</td>\n",
              "      <td>2015-05-28 23:50:10</td>\n",
              "      <td>2015-06-14 11:51:21</td>\n",
              "      <td>54</td>\n",
              "      <td>HVSZDGPDBKCII</td>\n",
              "      <td>SEO</td>\n",
              "      <td>Chrome</td>\n",
              "      <td>M</td>\n",
              "      <td>31</td>\n",
              "      <td>5.263339e+08</td>\n",
              "    </tr>\n",
              "    <tr>\n",
              "      <th>82142</th>\n",
              "      <td>66995</td>\n",
              "      <td>2015-04-09 03:48:52</td>\n",
              "      <td>2015-04-12 20:31:01</td>\n",
              "      <td>41</td>\n",
              "      <td>EWAXBHQORMYLB</td>\n",
              "      <td>SEO</td>\n",
              "      <td>Safari</td>\n",
              "      <td>M</td>\n",
              "      <td>39</td>\n",
              "      <td>3.756027e+09</td>\n",
              "    </tr>\n",
              "    <tr>\n",
              "      <th>...</th>\n",
              "      <td>...</td>\n",
              "      <td>...</td>\n",
              "      <td>...</td>\n",
              "      <td>...</td>\n",
              "      <td>...</td>\n",
              "      <td>...</td>\n",
              "      <td>...</td>\n",
              "      <td>...</td>\n",
              "      <td>...</td>\n",
              "      <td>...</td>\n",
              "    </tr>\n",
              "    <tr>\n",
              "      <th>31215</th>\n",
              "      <td>154824</td>\n",
              "      <td>2015-05-28 00:09:10</td>\n",
              "      <td>2015-09-03 23:06:20</td>\n",
              "      <td>51</td>\n",
              "      <td>PENHVDYZCLYMR</td>\n",
              "      <td>Ads</td>\n",
              "      <td>FireFox</td>\n",
              "      <td>M</td>\n",
              "      <td>37</td>\n",
              "      <td>2.643337e+09</td>\n",
              "    </tr>\n",
              "    <tr>\n",
              "      <th>147009</th>\n",
              "      <td>233710</td>\n",
              "      <td>2015-06-27 21:00:07</td>\n",
              "      <td>2015-09-06 21:05:13</td>\n",
              "      <td>33</td>\n",
              "      <td>QTXKRYHRDEODM</td>\n",
              "      <td>Direct</td>\n",
              "      <td>IE</td>\n",
              "      <td>M</td>\n",
              "      <td>33</td>\n",
              "      <td>3.091727e+09</td>\n",
              "    </tr>\n",
              "    <tr>\n",
              "      <th>115801</th>\n",
              "      <td>193981</td>\n",
              "      <td>2015-05-18 23:11:34</td>\n",
              "      <td>2015-08-23 19:04:21</td>\n",
              "      <td>63</td>\n",
              "      <td>USLGMTIPBXGTI</td>\n",
              "      <td>Ads</td>\n",
              "      <td>IE</td>\n",
              "      <td>F</td>\n",
              "      <td>32</td>\n",
              "      <td>2.559315e+09</td>\n",
              "    </tr>\n",
              "    <tr>\n",
              "      <th>68314</th>\n",
              "      <td>60385</td>\n",
              "      <td>2015-05-30 06:27:42</td>\n",
              "      <td>2015-07-20 11:08:04</td>\n",
              "      <td>38</td>\n",
              "      <td>UUTJJVXNUKVDB</td>\n",
              "      <td>Ads</td>\n",
              "      <td>Chrome</td>\n",
              "      <td>M</td>\n",
              "      <td>45</td>\n",
              "      <td>3.260783e+09</td>\n",
              "    </tr>\n",
              "    <tr>\n",
              "      <th>35401</th>\n",
              "      <td>144456</td>\n",
              "      <td>2015-04-11 10:37:24</td>\n",
              "      <td>2015-07-16 04:27:16</td>\n",
              "      <td>52</td>\n",
              "      <td>DRFLYXRFWUCCT</td>\n",
              "      <td>Ads</td>\n",
              "      <td>IE</td>\n",
              "      <td>M</td>\n",
              "      <td>26</td>\n",
              "      <td>1.243903e+07</td>\n",
              "    </tr>\n",
              "  </tbody>\n",
              "</table>\n",
              "<p>113334 rows × 10 columns</p>\n",
              "</div>"
            ],
            "text/plain": [
              "        user_id          signup_time        purchase_time  purchase_value  \\\n",
              "14017    396324  2015-05-14 20:04:14  2015-09-11 07:33:18              36   \n",
              "55601    145984  2015-04-28 17:24:46  2015-06-29 03:02:25              45   \n",
              "121348   203232  2015-03-06 08:33:15  2015-05-31 07:45:21              52   \n",
              "69508    205260  2015-05-28 23:50:10  2015-06-14 11:51:21              54   \n",
              "82142     66995  2015-04-09 03:48:52  2015-04-12 20:31:01              41   \n",
              "...         ...                  ...                  ...             ...   \n",
              "31215    154824  2015-05-28 00:09:10  2015-09-03 23:06:20              51   \n",
              "147009   233710  2015-06-27 21:00:07  2015-09-06 21:05:13              33   \n",
              "115801   193981  2015-05-18 23:11:34  2015-08-23 19:04:21              63   \n",
              "68314     60385  2015-05-30 06:27:42  2015-07-20 11:08:04              38   \n",
              "35401    144456  2015-04-11 10:37:24  2015-07-16 04:27:16              52   \n",
              "\n",
              "            device_id  source  browser sex  age    ip_address  \n",
              "14017   IFEEJSFSPORAV     SEO   Chrome   M   27  1.976885e+09  \n",
              "55601   UVBMLYAOPJVAC     Ads   Safari   F   26  2.796086e+09  \n",
              "121348  XASNZETNPFZTQ     Ads       IE   M   41  1.310155e+09  \n",
              "69508   HVSZDGPDBKCII     SEO   Chrome   M   31  5.263339e+08  \n",
              "82142   EWAXBHQORMYLB     SEO   Safari   M   39  3.756027e+09  \n",
              "...               ...     ...      ...  ..  ...           ...  \n",
              "31215   PENHVDYZCLYMR     Ads  FireFox   M   37  2.643337e+09  \n",
              "147009  QTXKRYHRDEODM  Direct       IE   M   33  3.091727e+09  \n",
              "115801  USLGMTIPBXGTI     Ads       IE   F   32  2.559315e+09  \n",
              "68314   UUTJJVXNUKVDB     Ads   Chrome   M   45  3.260783e+09  \n",
              "35401   DRFLYXRFWUCCT     Ads       IE   M   26  1.243903e+07  \n",
              "\n",
              "[113334 rows x 10 columns]"
            ]
          },
          "execution_count": 55,
          "metadata": {},
          "output_type": "execute_result"
        }
      ],
      "source": [
        "X_train"
      ]
    },
    {
      "cell_type": "code",
      "execution_count": null,
      "metadata": {
        "id": "ORhb75PUguuS"
      },
      "outputs": [],
      "source": [
        "# our first model will be built using the features:\n",
        "# purchse_value, age, source, browser, and sex"
      ]
    },
    {
      "cell_type": "code",
      "execution_count": null,
      "metadata": {
        "id": "7Xo-ym8HguuT"
      },
      "outputs": [],
      "source": [
        "from sklearn.linear_model import LogisticRegressionCV, LogisticRegression"
      ]
    },
    {
      "cell_type": "code",
      "execution_count": null,
      "metadata": {
        "id": "74ioR6vwguuT"
      },
      "outputs": [],
      "source": [
        "# We have numerical and categorical data"
      ]
    },
    {
      "cell_type": "code",
      "execution_count": null,
      "metadata": {
        "id": "ouMQF7v1guuU"
      },
      "outputs": [],
      "source": [
        "import numpy as np\n",
        "\n",
        "from sklearn.preprocessing import StandardScaler\n",
        "from sklearn.compose import ColumnTransformer\n",
        "from sklearn.pipeline import Pipeline\n",
        "\n",
        "\n",
        "model = Pipeline([\n",
        "    (\"selector\", ColumnTransformer([(\"numerical\", \"passthrough\", [\"purchase_value\", \"age\"])])),\n",
        "    (\"scaler\", StandardScaler()),\n",
        "    (\"classifier\", LogisticRegression(class_weight=\"balanced\"))\n",
        "])"
      ]
    },
    {
      "cell_type": "code",
      "execution_count": null,
      "metadata": {
        "id": "uCibGMnAguuU",
        "outputId": "21a04b7b-27c7-4e2c-ae97-e78b1da30450"
      },
      "outputs": [
        {
          "data": {
            "text/plain": [
              "Pipeline(steps=[('selector',\n",
              "                 ColumnTransformer(transformers=[('numerical', 'passthrough',\n",
              "                                                  ['purchase_value', 'age'])])),\n",
              "                ('scaler', StandardScaler()),\n",
              "                ('classifier', LogisticRegression(class_weight='balanced'))])"
            ]
          },
          "execution_count": 140,
          "metadata": {},
          "output_type": "execute_result"
        }
      ],
      "source": [
        "model.fit(X_train, y_train)"
      ]
    },
    {
      "cell_type": "code",
      "execution_count": null,
      "metadata": {
        "id": "2S0gp84iguuV",
        "outputId": "2547cf93-33c1-4666-b32f-59ba95c923db"
      },
      "outputs": [
        {
          "name": "stdout",
          "output_type": "stream",
          "text": [
            "Training recall: 0.483321\n",
            "Training F-1 score: 0.158906\n"
          ]
        }
      ],
      "source": [
        "evaluate_model(model, X_train, y_train, \"Training\")"
      ]
    },
    {
      "cell_type": "code",
      "execution_count": null,
      "metadata": {
        "id": "oua_X0ybguuV",
        "outputId": "fd29bd7a-6072-420b-d072-889a83c6ed00"
      },
      "outputs": [
        {
          "name": "stdout",
          "output_type": "stream",
          "text": [
            "Testing recall: 0.480133\n",
            "Testing F-1 score: 0.161367\n"
          ]
        }
      ],
      "source": [
        "evaluate_model(model, X_test, y_test, \"Testing\")"
      ]
    },
    {
      "cell_type": "code",
      "execution_count": null,
      "metadata": {
        "id": "-orwVTh0guuW"
      },
      "outputs": [],
      "source": [
        "y_pred = model.predict(X_test)"
      ]
    },
    {
      "cell_type": "code",
      "execution_count": null,
      "metadata": {
        "id": "rCOHqPgqguuW",
        "outputId": "be142a2d-e889-469d-d959-2bd231745c1a"
      },
      "outputs": [
        {
          "data": {
            "text/plain": [
              "0.09310533467450191"
            ]
          },
          "execution_count": 143,
          "metadata": {},
          "output_type": "execute_result"
        }
      ],
      "source": [
        "y_train.mean()"
      ]
    },
    {
      "cell_type": "code",
      "execution_count": null,
      "metadata": {
        "id": "SxtDDD4IguuX"
      },
      "outputs": [],
      "source": [
        "from sklearn.preprocessing import OneHotEncoder"
      ]
    },
    {
      "cell_type": "code",
      "execution_count": null,
      "metadata": {
        "id": "5gNOaD3LguuZ"
      },
      "outputs": [],
      "source": [
        "model = Pipeline([\n",
        "    (\"selector\", ColumnTransformer([(\"numerical\", \"passthrough\", [\"sex\", \"browser\", \"source\"])])),\n",
        "    (\"encoder\", OneHotEncoder()),\n",
        "    (\"classifier\", LogisticRegression(class_weight=\"balanced\"))\n",
        "])"
      ]
    },
    {
      "cell_type": "code",
      "execution_count": null,
      "metadata": {
        "id": "nIPj4wtoguuZ",
        "outputId": "47e52e7b-8c8b-40b1-8da5-77c80ccd62fd"
      },
      "outputs": [
        {
          "data": {
            "text/plain": [
              "Pipeline(steps=[('selector',\n",
              "                 ColumnTransformer(transformers=[('numerical', 'passthrough',\n",
              "                                                  ['sex', 'browser',\n",
              "                                                   'source'])])),\n",
              "                ('encoder', OneHotEncoder()),\n",
              "                ('classifier', LogisticRegression(class_weight='balanced'))])"
            ]
          },
          "execution_count": 146,
          "metadata": {},
          "output_type": "execute_result"
        }
      ],
      "source": [
        "model.fit(X_train, y_train)"
      ]
    },
    {
      "cell_type": "code",
      "execution_count": null,
      "metadata": {
        "id": "vMmQ9zQpguua",
        "outputId": "d0406e81-50ae-4ecd-a806-e861ad8ac174"
      },
      "outputs": [
        {
          "name": "stdout",
          "output_type": "stream",
          "text": [
            "Training recall: 0.499716\n",
            "Training F-1 score: 0.165651\n"
          ]
        }
      ],
      "source": [
        "evaluate_model(model, X_train, y_train, \"Training\")"
      ]
    },
    {
      "cell_type": "code",
      "execution_count": null,
      "metadata": {
        "id": "QUByhP_0guua",
        "outputId": "6266eacb-2c55-43b6-d314-10cce9c133a3"
      },
      "outputs": [
        {
          "name": "stdout",
          "output_type": "stream",
          "text": [
            "Testing recall: 0.496249\n",
            "Testing F-1 score: 0.167936\n"
          ]
        }
      ],
      "source": [
        "evaluate_model(model, X_test, y_test, \"Testing\")"
      ]
    },
    {
      "cell_type": "code",
      "execution_count": null,
      "metadata": {
        "id": "ZUn4lT5mguub"
      },
      "outputs": [],
      "source": [
        "## Using Both numerical and Categorical"
      ]
    },
    {
      "cell_type": "code",
      "execution_count": null,
      "metadata": {
        "id": "OTvkwD-wguub"
      },
      "outputs": [],
      "source": [
        "pipe_num = Pipeline([\n",
        "    (\"scaler\", StandardScaler()),\n",
        "])\n",
        "\n",
        "pip_cat = Pipeline([\n",
        "    (\"encoder\", OneHotEncoder()),\n",
        "])"
      ]
    },
    {
      "cell_type": "code",
      "execution_count": null,
      "metadata": {
        "id": "hjmIiH4oguub"
      },
      "outputs": [],
      "source": [
        "model = Pipeline([\n",
        "    (\"selector\", ColumnTransformer([\n",
        "        (\"numerical\", pipe_num, [\"age\", \"purchase_value\"]),\n",
        "        (\"categorical\", pip_cat, [\"sex\", \"browser\", \"source\"]),\n",
        "    ])),\n",
        "    (\"classifier\", LogisticRegression(class_weight=\"balanced\"))\n",
        "])"
      ]
    },
    {
      "cell_type": "code",
      "execution_count": null,
      "metadata": {
        "id": "Pn3v9bfRguuc",
        "outputId": "313631fe-1e06-427f-f596-aba9cceb20dd"
      },
      "outputs": [
        {
          "data": {
            "text/plain": [
              "Pipeline(steps=[('selector',\n",
              "                 ColumnTransformer(transformers=[('numerical',\n",
              "                                                  Pipeline(steps=[('scaler',\n",
              "                                                                   StandardScaler())]),\n",
              "                                                  ['age', 'purchase_value']),\n",
              "                                                 ('categorical',\n",
              "                                                  Pipeline(steps=[('encoder',\n",
              "                                                                   OneHotEncoder())]),\n",
              "                                                  ['sex', 'browser',\n",
              "                                                   'source'])])),\n",
              "                ('classifier', LogisticRegression(class_weight='balanced'))])"
            ]
          },
          "execution_count": 156,
          "metadata": {},
          "output_type": "execute_result"
        }
      ],
      "source": [
        "model.fit(X_train, y_train)"
      ]
    },
    {
      "cell_type": "code",
      "execution_count": null,
      "metadata": {
        "id": "aKNkaOLwguuc",
        "outputId": "eaf2fd5c-fbfd-4144-e0fb-e3af32b0a09b"
      },
      "outputs": [
        {
          "name": "stdout",
          "output_type": "stream",
          "text": [
            "Training recall: 0.509666\n",
            "Training F-1 score: 0.168436\n"
          ]
        }
      ],
      "source": [
        "evaluate_model(model, X_train, y_train, \"Training\")"
      ]
    },
    {
      "cell_type": "code",
      "execution_count": null,
      "metadata": {
        "id": "bAtz8yorguud",
        "outputId": "86f4f453-0da2-4e39-ec1b-08598c5a7796"
      },
      "outputs": [
        {
          "name": "stdout",
          "output_type": "stream",
          "text": [
            "Testing recall: 0.496249\n",
            "Testing F-1 score: 0.167936\n"
          ]
        }
      ],
      "source": [
        "evaluate_model(model, X_test, y_test, \"Testing\")"
      ]
    },
    {
      "cell_type": "markdown",
      "metadata": {
        "id": "hta6qLLgguuf"
      },
      "source": [
        "## Feature Engineering"
      ]
    },
    {
      "cell_type": "code",
      "execution_count": null,
      "metadata": {
        "id": "7oqpWGpiguug"
      },
      "outputs": [],
      "source": [
        "# Repeat customer/device\n",
        "# Time diff\n",
        "# Country"
      ]
    },
    {
      "cell_type": "code",
      "execution_count": null,
      "metadata": {
        "id": "atnXdAjoguuh"
      },
      "outputs": [],
      "source": [
        ""
      ]
    }
  ],
  "metadata": {
    "kernelspec": {
      "display_name": "Python 3",
      "language": "python",
      "name": "python3"
    },
    "language_info": {
      "codemirror_mode": {
        "name": "ipython",
        "version": 3
      },
      "file_extension": ".py",
      "mimetype": "text/x-python",
      "name": "python",
      "nbconvert_exporter": "python",
      "pygments_lexer": "ipython3",
      "version": "3.8.8"
    },
    "colab": {
      "name": "fraud_data.ipynb",
      "provenance": []
    }
  },
  "nbformat": 4,
  "nbformat_minor": 0
}