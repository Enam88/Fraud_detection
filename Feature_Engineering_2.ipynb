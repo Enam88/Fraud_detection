{
  "nbformat": 4,
  "nbformat_minor": 0,
  "metadata": {
    "colab": {
      "name": "Feature Engineering_2",
      "provenance": [],
      "authorship_tag": "ABX9TyNYB8qKeWWkQhuQMf0bPfID"
    },
    "kernelspec": {
      "name": "python3",
      "display_name": "Python 3"
    }
  },
  "cells": [
    {
      "cell_type": "code",
      "source": [
        "from sklearn.compose import ColumnTransformer\n",
        "from sklearn.model_selection import GridSearchCV\n",
        "from sklearn.pipeline import Pipeline\n",
        "from sklearn.preprocessing import OneHotEncoder\n",
        "from sklearn.tree import DecisionTreeClassifier"
      ],
      "metadata": {
        "id": "CEJLdFHv_Vsy"
      },
      "execution_count": null,
      "outputs": []
    },
    {
      "cell_type": "code",
      "source": [
        "import pandas as pd"
      ],
      "metadata": {
        "id": "Oqkx8SarBMVu"
      },
      "execution_count": null,
      "outputs": []
    },
    {
      "cell_type": "code",
      "source": [
        "from google.colab import drive\n",
        "drive.mount('/content/drive/')"
      ],
      "metadata": {
        "id": "xxxlKSEb8KK2"
      },
      "execution_count": null,
      "outputs": []
    },
    {
      "cell_type": "code",
      "source": [
        "%cd /content/drive/My Drive/Colab Notebooks"
      ],
      "metadata": {
        "id": "07S0_4lk8K47"
      },
      "execution_count": null,
      "outputs": []
    },
    {
      "cell_type": "code",
      "source": [
        "from utils import prepare_data, cost_func, evaluate_model"
      ],
      "metadata": {
        "id": "0jV6RRX38bgu"
      },
      "execution_count": null,
      "outputs": []
    },
    {
      "cell_type": "code",
      "source": [
        "from custom_estimator import IdentifyRepeats, TimeDiff"
      ],
      "metadata": {
        "id": "AqcT04Po-G_q"
      },
      "execution_count": null,
      "outputs": []
    },
    {
      "cell_type": "code",
      "source": [
        "X_train, X_test, y_train, y_test = prepare_data()"
      ],
      "metadata": {
        "id": "J4Ce2psd8nWk"
      },
      "execution_count": null,
      "outputs": []
    },
    {
      "cell_type": "code",
      "source": [
        "pip_cat = Pipeline([\n",
        "    (\"encoder\", OneHotEncoder()),\n",
        "])\n",
        "\n",
        "selector = ColumnTransformer([\n",
        "    (\"numerical\", \"passthrough\", [\"age\", \"purchase_value\"]),\n",
        "    (\"categorical\", pip_cat, [\"sex\", \"browser\", \"source\"]),\n",
        "    (\"repated_devices\", IdentifyRepeats(), \"device_id\"),\n",
        "    (\"time_diff\", TimeDiff(), [\"signup_time\", \"purchase_time\"])\n",
        "])\n",
        "\n",
        "model = Pipeline([\n",
        "    (\"selector\", selector),\n",
        "    (\"classifier\", DecisionTreeClassifier(max_depth=5))\n",
        "])"
      ],
      "metadata": {
        "id": "NtfXVrxf9bn2"
      },
      "execution_count": null,
      "outputs": []
    },
    {
      "cell_type": "code",
      "source": [
        "param_grid = {\"classifier__max_depth\": range(1,20), \"classifier__class_weight\": [None, \"balanced\"]}\n",
        "grid_search = GridSearchCV(model, param_grid, cv=5, verbose=1, scoring=cost_func)"
      ],
      "metadata": {
        "id": "lMcozAcC-5RO"
      },
      "execution_count": null,
      "outputs": []
    },
    {
      "cell_type": "code",
      "source": [
        "import custom_estimator\n",
        "import importlib\n",
        "importlib.reload(custom_estimator)"
      ],
      "metadata": {
        "id": "BrtXiaaQB-5f"
      },
      "execution_count": null,
      "outputs": []
    },
    {
      "cell_type": "code",
      "source": [
        "grid_search.fit(X_train, y_train)"
      ],
      "metadata": {
        "id": "_JOYzHfrASHn"
      },
      "execution_count": null,
      "outputs": []
    },
    {
      "cell_type": "code",
      "source": [
        "evaluate_model(grid_search, X_train, y_train, \"Training\")"
      ],
      "metadata": {
        "id": "jUc1Iyw0DssQ"
      },
      "execution_count": null,
      "outputs": []
    },
    {
      "cell_type": "code",
      "source": [
        "cost_func(grid_search, X_train, y_train)/ X_train.shape[0]"
      ],
      "metadata": {
        "id": "S-tr7syfD14p"
      },
      "execution_count": null,
      "outputs": []
    },
    {
      "cell_type": "code",
      "source": [
        "evaluate_model(grid_search, X_test, y_test, \"Testing\")"
      ],
      "metadata": {
        "id": "bKZKygkvEAQC"
      },
      "execution_count": null,
      "outputs": []
    },
    {
      "cell_type": "code",
      "source": [
        "cost_func(grid_search, X_test, y_test)/ X_test.shape[0]"
      ],
      "metadata": {
        "id": "Oav9bR0EEkbO"
      },
      "execution_count": null,
      "outputs": []
    },
    {
      "cell_type": "code",
      "source": [
        "grid_search.best_params_"
      ],
      "metadata": {
        "id": "KcapwFYoE1PP"
      },
      "execution_count": null,
      "outputs": []
    },
    {
      "cell_type": "markdown",
      "source": [
        "##The effect of Threshold"
      ],
      "metadata": {
        "id": "y8ZFFY6_GvF0"
      }
    },
    {
      "cell_type": "code",
      "source": [
        "import numpy as np\n",
        "thresholds = np.linspace(0, 1, 100)"
      ],
      "metadata": {
        "id": "UJ35_5TUGuwY"
      },
      "execution_count": null,
      "outputs": []
    },
    {
      "cell_type": "code",
      "source": [
        "def predict_labels(model, X, threshold=0.5):\n",
        "    return (model.predict_proba(X)[:, 1] > threshold).astype(int)"
      ],
      "metadata": {
        "id": "xitl9mBtFWcU"
      },
      "execution_count": null,
      "outputs": []
    },
    {
      "cell_type": "code",
      "source": [
        "predict_labels(grid_search, X_train)"
      ],
      "metadata": {
        "id": "_PiGPnDNH1-Z"
      },
      "execution_count": null,
      "outputs": []
    },
    {
      "cell_type": "code",
      "source": [
        "def cost_func_w_threshold(model, X, y_true, threshold=0.5):\n",
        "    \"\"\"\n",
        "    Return cost of model based upon FP and FN\n",
        "    Cost = 7 * FP + purchase value of each FN\n",
        "    \"\"\"\n",
        "    y_pred = (model.predict_proba(X)[:, 1] > threshold).astype(int)\n",
        "    FP = (y_pred & ~y_true).sum()\n",
        "\n",
        "    # FN: we say it's NOT fraudulent (y=0) AND it's truely Fraudulent (y_true = 1)\n",
        "    FN = X.loc[(~y_pred & y_true).index, \"purchase_value\"].sum()\n",
        "\n",
        "    return -(7 * FP + FN)"
      ],
      "metadata": {
        "id": "rOirWGVTH5db"
      },
      "execution_count": null,
      "outputs": []
    },
    {
      "cell_type": "code",
      "source": [
        "cost_func_w_threshold(grid_search, X_train, y_train) / X_train.shape[0]"
      ],
      "metadata": {
        "id": "ZJ7bbJlTI8ml"
      },
      "execution_count": null,
      "outputs": []
    },
    {
      "cell_type": "code",
      "source": [
        "#probably i should tweak the way i find the best model\n",
        "#for a given set of hyper params, there is an optimal threshold\n",
        "#And by optimal, i mean a value for threshold that will have the lowest cost func value"
      ],
      "metadata": {
        "id": "l14TS3UIJMXx"
      },
      "execution_count": null,
      "outputs": []
    },
    {
      "cell_type": "code",
      "source": [
        "model.set_params(classifier__max_depth=2)"
      ],
      "metadata": {
        "id": "hRfhozZ6M-qp"
      },
      "execution_count": null,
      "outputs": []
    },
    {
      "cell_type": "code",
      "source": [
        "model.fit(X_train, y_train)"
      ],
      "metadata": {
        "id": "xYzBqGr1KN7Y"
      },
      "execution_count": null,
      "outputs": []
    },
    {
      "cell_type": "code",
      "source": [
        "model.predict_proba(X_train)[:,1]"
      ],
      "metadata": {
        "id": "_GfaUpdRKQ2E"
      },
      "execution_count": null,
      "outputs": []
    },
    {
      "cell_type": "code",
      "source": [
        "cost_func_w_threshold(model, X_train, y_train, threshold=0.4) / X_train.shape[0]"
      ],
      "metadata": {
        "id": "i-2ZWXkPKcF_"
      },
      "execution_count": null,
      "outputs": []
    },
    {
      "cell_type": "code",
      "source": [
        "costs = np.array([\n",
        "                  cost_func_w_threshold(model,X_train, y_train, threshold=threshold) for threshold in thresholds\n",
        "                  ]) / X_train.shape[0]"
      ],
      "metadata": {
        "id": "S4OXVHVqLF2P"
      },
      "execution_count": null,
      "outputs": []
    },
    {
      "cell_type": "code",
      "source": [
        "import matplotlib.pyplot as plt"
      ],
      "metadata": {
        "id": "i_QCHApXMPDO"
      },
      "execution_count": null,
      "outputs": []
    },
    {
      "cell_type": "code",
      "source": [
        "plt.plot(thresholds, costs, '--r')"
      ],
      "metadata": {
        "id": "xz76POiKMWMb"
      },
      "execution_count": null,
      "outputs": []
    },
    {
      "cell_type": "markdown",
      "source": [
        "##Trying Random Forest"
      ],
      "metadata": {
        "id": "iV2ZzN90NqLC"
      }
    },
    {
      "cell_type": "code",
      "source": [
        "from sklearn.ensemble import RandomForestClassifier"
      ],
      "metadata": {
        "id": "eDbGOQhRNuDX"
      },
      "execution_count": null,
      "outputs": []
    },
    {
      "cell_type": "code",
      "source": [
        "pip_cat = Pipeline([\n",
        "    (\"encoder\", OneHotEncoder()),\n",
        "])\n",
        "\n",
        "selector = ColumnTransformer([\n",
        "    (\"numerical\", \"passthrough\", [\"age\", \"purchase_value\"]),\n",
        "    (\"categorical\", pip_cat, [\"sex\", \"browser\", \"source\"]),\n",
        "    (\"repated_devices\", IdentifyRepeats(), \"device_id\"),\n",
        "    (\"time_diff\", TimeDiff(), [\"signup_time\", \"purchase_time\"])\n",
        "])\n",
        "\n",
        "model = Pipeline([\n",
        "    (\"selector\", selector),\n",
        "    (\"classifier\", RandomForestClassifier())\n",
        "])"
      ],
      "metadata": {
        "id": "gOAVw8guMc6I"
      },
      "execution_count": null,
      "outputs": []
    },
    {
      "cell_type": "code",
      "source": [
        "param_grid = {\"classifier__max_depth\": range(1,20), \"classifier__class_weight\": [None, \"balanced\"]}\n",
        "grid_search = GridSearchCV(model, param_grid, cv=5, verbose=3, scoring=cost_func)"
      ],
      "metadata": {
        "id": "qD264HYPN9NT"
      },
      "execution_count": null,
      "outputs": []
    },
    {
      "cell_type": "code",
      "source": [
        "grid_search.fit(X_train, y_train)"
      ],
      "metadata": {
        "id": "fRD-ejO5OOIA"
      },
      "execution_count": null,
      "outputs": []
    },
    {
      "cell_type": "code",
      "source": [
        "#for the business as usual approach\n",
        "#sum the purchase value of all fraud"
      ],
      "metadata": {
        "id": "WEJn7oYeOSaG"
      },
      "execution_count": null,
      "outputs": []
    },
    {
      "cell_type": "code",
      "source": [
        "X_train.assign(label=y_train).query(\"label == 1\")[\"purchase_value\"].sum() / X_train[0]"
      ],
      "metadata": {
        "id": "LCh3Zbt3PWtD"
      },
      "execution_count": null,
      "outputs": []
    },
    {
      "cell_type": "code",
      "source": [
        "X_test.assign(label=y_test).query(\"label == 1\")[\"purchase_value\"].sum() / X_test[0]"
      ],
      "metadata": {
        "id": "QV8t0i9nP4mx"
      },
      "execution_count": null,
      "outputs": []
    }
  ]
}