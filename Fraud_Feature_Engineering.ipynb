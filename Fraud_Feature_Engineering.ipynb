{
  "cells": [
    {
      "cell_type": "markdown",
      "metadata": {
        "id": "view-in-github",
        "colab_type": "text"
      },
      "source": [
        "<a href=\"https://colab.research.google.com/github/Enam88/Fraud_detection/blob/main/Fraud_Feature_Engineering.ipynb\" target=\"_parent\"><img src=\"https://colab.research.google.com/assets/colab-badge.svg\" alt=\"Open In Colab\"/></a>"
      ]
    },
    {
      "cell_type": "code",
      "source": [
        "from google.colab import drive\n",
        "drive.mount('/content/drive/')"
      ],
      "metadata": {
        "colab": {
          "base_uri": "https://localhost:8080/"
        },
        "id": "8nWA4fuPk4ta",
        "outputId": "fa48fcaa-6f1f-46a7-c8e6-8d62af72d300"
      },
      "execution_count": 59,
      "outputs": [
        {
          "output_type": "stream",
          "name": "stdout",
          "text": [
            "Drive already mounted at /content/drive/; to attempt to forcibly remount, call drive.mount(\"/content/drive/\", force_remount=True).\n"
          ]
        }
      ]
    },
    {
      "cell_type": "code",
      "source": [
        "%cd /content/drive/My Drive/Colab Notebooks"
      ],
      "metadata": {
        "id": "7xAua3XslCsL"
      },
      "execution_count": null,
      "outputs": []
    },
    {
      "cell_type": "code",
      "execution_count": null,
      "metadata": {
        "id": "zqoK5BJ-gut7"
      },
      "outputs": [],
      "source": [
        "# Most of the raw features we had don't seem to correlate so well with fraud vs not fraud\n",
        "\n",
        "# [Featre Engineering]\n",
        "# The time difference could be useful\n",
        "# The country information could also be useful"
      ]
    },
    {
      "cell_type": "code",
      "source": [
        "from utils import prepare_data, cost_func\n",
        "X_train, X_test, y_train, y_test = prepare_data()"
      ],
      "metadata": {
        "id": "n9kmmRBEpQOt"
      },
      "execution_count": 60,
      "outputs": []
    },
    {
      "cell_type": "code",
      "execution_count": 61,
      "metadata": {
        "id": "7zwc9OX0guuA"
      },
      "outputs": [],
      "source": [
        "# Assume a Naive Model\n",
        "from sklearn.dummy import DummyClassifier\n",
        "\n",
        "model_naive = DummyClassifier(strategy=\"constant\", constant=1).fit(X_train, y_train)\n"
      ]
    },
    {
      "cell_type": "code",
      "execution_count": null,
      "metadata": {
        "id": "4cpjPoHBguuB"
      },
      "outputs": [],
      "source": [
        "# What is our problem?\n",
        "# Well, we want to detect fraud in commercial transactions\n",
        "# So we can either say something is Fraud or not Fraud"
      ]
    },
    {
      "cell_type": "code",
      "execution_count": null,
      "metadata": {
        "id": "NrIJLRSrguuC"
      },
      "outputs": [],
      "source": [
        "# We can say that it's really important that we identify all instances of fraud\n",
        "# So in general, it's OK if we misclassify a transaction as fraudulent when it's not really\n",
        "# If we call a fraudulent transaction as +\n",
        "# Then what do we care about more? Precision or Recall?\n",
        "# Given our problem statement, we want high recall"
      ]
    },
    {
      "cell_type": "code",
      "source": [
        "from utils import evaluate_model"
      ],
      "metadata": {
        "id": "z3ozqk_gUtHU"
      },
      "execution_count": 62,
      "outputs": []
    },
    {
      "cell_type": "code",
      "execution_count": 63,
      "metadata": {
        "id": "LSPeopBYguuQ",
        "outputId": "7c49f60c-53ba-4a3e-dc62-104f8c92f82a",
        "colab": {
          "base_uri": "https://localhost:8080/"
        }
      },
      "outputs": [
        {
          "output_type": "stream",
          "name": "stdout",
          "text": [
            "Training recall: 1\n",
            "Training F-1 score: 0.172046\n"
          ]
        }
      ],
      "source": [
        "evaluate_model(model_naive, X_train, y_train, \"Training\")"
      ]
    },
    {
      "cell_type": "code",
      "execution_count": 64,
      "metadata": {
        "id": "5LNWVWPoguuR",
        "outputId": "eff5ee03-b83e-4f4f-e2da-508607d8edfb",
        "colab": {
          "base_uri": "https://localhost:8080/"
        }
      },
      "outputs": [
        {
          "output_type": "stream",
          "name": "stdout",
          "text": [
            "Testing recall: 1\n",
            "Testing F-1 score: 0.168081\n"
          ]
        }
      ],
      "source": [
        "evaluate_model(model_naive, X_test, y_test, \"Testing\")"
      ]
    },
    {
      "cell_type": "code",
      "source": [
        "cost_func(model_naive, X_train, y_train) / X_train.shape[0]"
      ],
      "metadata": {
        "colab": {
          "base_uri": "https://localhost:8080/"
        },
        "id": "fr_MLinPXoWq",
        "outputId": "0860ff9d-f450-4aeb-8da3-7b381f2bd50c"
      },
      "execution_count": 65,
      "outputs": [
        {
          "output_type": "execute_result",
          "data": {
            "text/plain": [
              "43.309110010009185"
            ]
          },
          "metadata": {},
          "execution_count": 65
        }
      ]
    },
    {
      "cell_type": "code",
      "source": [
        "cost_func(model_naive, X_test, y_test) / X_test.shape[0]"
      ],
      "metadata": {
        "colab": {
          "base_uri": "https://localhost:8080/"
        },
        "id": "whEo1SJSX-4P",
        "outputId": "de8bbf27-61d7-4ff0-bbe1-d2d187550a04"
      },
      "execution_count": 66,
      "outputs": [
        {
          "output_type": "execute_result",
          "data": {
            "text/plain": [
              "43.16282301558416"
            ]
          },
          "metadata": {},
          "execution_count": 66
        }
      ]
    },
    {
      "cell_type": "code",
      "execution_count": null,
      "metadata": {
        "id": "ORhb75PUguuS"
      },
      "outputs": [],
      "source": [
        "# our first model will be built using the features:\n",
        "# purchse_value, age, source, browser, and sex"
      ]
    },
    {
      "cell_type": "markdown",
      "source": [
        "##First Serious Model"
      ],
      "metadata": {
        "id": "hxAbdGh_VVBY"
      }
    },
    {
      "cell_type": "code",
      "execution_count": null,
      "metadata": {
        "id": "7Xo-ym8HguuT"
      },
      "outputs": [],
      "source": [
        "import numpy as np\n",
        "from sklearn.pipeline import Pipeline\n",
        "from sklearn.compose import ColumnTransformer\n",
        "from sklearn.linear_model import LogisticRegression\n",
        "from sklearn.preprocessing import StandardScaler, OneHotEncoder\n"
      ]
    },
    {
      "cell_type": "code",
      "execution_count": null,
      "metadata": {
        "id": "74ioR6vwguuT"
      },
      "outputs": [],
      "source": [
        "# We have numerical and categorical data"
      ]
    },
    {
      "cell_type": "code",
      "execution_count": null,
      "metadata": {
        "id": "OTvkwD-wguub"
      },
      "outputs": [],
      "source": [
        "pipe_num = Pipeline([\n",
        "    (\"scaler\", StandardScaler()),\n",
        "])\n",
        "\n",
        "pip_cat = Pipeline([\n",
        "    (\"encoder\", OneHotEncoder()),\n",
        "])"
      ]
    },
    {
      "cell_type": "code",
      "execution_count": null,
      "metadata": {
        "id": "Pn3v9bfRguuc"
      },
      "outputs": [],
      "source": [
        "model.fit(X_train, y_train)"
      ]
    },
    {
      "cell_type": "code",
      "execution_count": null,
      "metadata": {
        "id": "aKNkaOLwguuc"
      },
      "outputs": [],
      "source": [
        "evaluate_model(model, X_train, y_train, \"Training\")"
      ]
    },
    {
      "cell_type": "code",
      "execution_count": null,
      "metadata": {
        "id": "bAtz8yorguud"
      },
      "outputs": [],
      "source": [
        "evaluate_model(model, X_test, y_test, \"Testing\")"
      ]
    },
    {
      "cell_type": "code",
      "source": [
        "cost_func(model, X_train, y_train) / X_train.shape[0]"
      ],
      "metadata": {
        "id": "_bILMvRuZDv8"
      },
      "execution_count": null,
      "outputs": []
    },
    {
      "cell_type": "code",
      "source": [
        "cost_func(model, X_test, y_test) / X_test.shape[0]"
      ],
      "metadata": {
        "id": "64HIhVR1Ze64"
      },
      "execution_count": null,
      "outputs": []
    },
    {
      "cell_type": "markdown",
      "metadata": {
        "id": "hta6qLLgguuf"
      },
      "source": [
        "## Feature Engineering"
      ]
    },
    {
      "cell_type": "code",
      "execution_count": null,
      "metadata": {
        "id": "7oqpWGpiguug"
      },
      "outputs": [],
      "source": [
        "# Repeat customer/device\n",
        "# Time diff\n",
        "# Country"
      ]
    },
    {
      "cell_type": "markdown",
      "source": [
        "##Time Difference"
      ],
      "metadata": {
        "id": "NrEYqLhub_Xq"
      }
    },
    {
      "cell_type": "code",
      "source": [
        "X_train.head()"
      ],
      "metadata": {
        "id": "q9bRD2uqcDfh"
      },
      "execution_count": null,
      "outputs": []
    },
    {
      "cell_type": "code",
      "source": [
        "import pandas as pd\n",
        "(pd.to_datetime(X_train['purchase_time']) - pd.to_datetime(X_train['signup_time'])).dt.total_seconds()"
      ],
      "metadata": {
        "id": "scrZYOXDcMdT"
      },
      "execution_count": null,
      "outputs": []
    },
    {
      "cell_type": "code",
      "source": [
        "from sklearn.base import BaseEstimator, TransformerMixin\n",
        "\n",
        "class TimeDiff(BaseEstimator, TransformerMixin):\n",
        "    def __init__(self, col_1, col_2, fmt=None):\n",
        "        self.col_1 = col_1\n",
        "        self.col_2 = col_2\n",
        "        self.fmt = fmt\n",
        "    \n",
        "    def _convert_to_datetime(self, series):\n",
        "        return pd.to_datetime(series, format=self.fmt)\n",
        "\n",
        "    def fit(self, X, y=None):\n",
        "        return self\n",
        "\n",
        "    def transform(self, X):\n",
        "        t_1 = self._convert_to_datetime(X[self.col_1])\n",
        "        t_2 = self._convert_to_datetime(X[self.col_2])\n",
        "        return (t_2 - t_1).dt.total_seconds().values.reshape(-1,1)"
      ],
      "metadata": {
        "id": "wds6hVKWd3F0"
      },
      "execution_count": null,
      "outputs": []
    },
    {
      "cell_type": "code",
      "source": [
        "TimeDiff('signup_time', 'purchase_time').fit_transform(X_train)"
      ],
      "metadata": {
        "id": "MTlcBaBYgleU"
      },
      "execution_count": null,
      "outputs": []
    },
    {
      "cell_type": "code",
      "source": [
        "from custom_estimator import IdentifyRepeats"
      ],
      "metadata": {
        "id": "Yojnb2w4knmt"
      },
      "execution_count": null,
      "outputs": []
    },
    {
      "cell_type": "code",
      "source": [
        "selector = ColumnTransformer([\n",
        "                   (\"numerical\", pipe_num, [\"age\", \"purchase_value\"]),\n",
        "                   (\"categorical\", pip_cat, [\"sex\", \"browser\", \"source\"]),\n",
        "                   (\"repeated_devices\", IdentifyRepeats(), \"device_id\"),\n",
        "                   (\"time_diff\", TimeDiff(\"signup_time\", \"purchase_time\"), [\"signup_time\", \"purchase_time\"])                                                 \n",
        "                   ])\n",
        "\n",
        "\n",
        "model = Pipeline([\n",
        "                  (\"selector\",selector),\n",
        "                  (\"Sclaer\", StandardScaler()),\n",
        "                  (\"classifier\", LogisticRegression(class_weight=\"balanced\"))\n",
        "])"
      ],
      "metadata": {
        "id": "tFh5sUHsiad8"
      },
      "execution_count": null,
      "outputs": []
    },
    {
      "cell_type": "code",
      "source": [
        "model.fit(X_train, y_train)"
      ],
      "metadata": {
        "id": "xpuQOevZkWGU"
      },
      "execution_count": null,
      "outputs": []
    },
    {
      "cell_type": "code",
      "source": [
        "evaluate_model(model, X_train, y_train, \"Training\")"
      ],
      "metadata": {
        "id": "1Hs6vjZHmVeI"
      },
      "execution_count": null,
      "outputs": []
    },
    {
      "cell_type": "code",
      "source": [
        "evaluate_model(model, X_test, y_test, \"Testing\")"
      ],
      "metadata": {
        "id": "ojzsYwfTn51J"
      },
      "execution_count": null,
      "outputs": []
    },
    {
      "cell_type": "code",
      "source": [
        "cost_func(model,X_train, y_train) / X_train.shape[0]"
      ],
      "metadata": {
        "id": "QX6Dtzg4nwZ9"
      },
      "execution_count": null,
      "outputs": []
    },
    {
      "cell_type": "code",
      "source": [
        "cost_func(model,X_test, y_test) / X_test.shape[0]"
      ],
      "metadata": {
        "id": "j0-aP2GzoPW4"
      },
      "execution_count": null,
      "outputs": []
    },
    {
      "cell_type": "code",
      "source": [
        "X_train['device_id'].nunique()"
      ],
      "metadata": {
        "id": "FA6Qz7h98gg9"
      },
      "execution_count": null,
      "outputs": []
    },
    {
      "cell_type": "code",
      "source": [
        "X_train.shape"
      ],
      "metadata": {
        "id": "K7J-nWxX83oW"
      },
      "execution_count": null,
      "outputs": []
    },
    {
      "cell_type": "code",
      "source": [
        "repeated_device = set((X_train['device_id'].value_counts() > 1).to_frame().query(\"device_id == True\").index)"
      ],
      "metadata": {
        "id": "HiyRjU4h85r_"
      },
      "execution_count": null,
      "outputs": []
    },
    {
      "cell_type": "code",
      "source": [
        "X_train['device_id'].isin(repeated_device).sum()"
      ],
      "metadata": {
        "id": "oD_7jduu9eVY"
      },
      "execution_count": null,
      "outputs": []
    },
    {
      "cell_type": "code",
      "source": [
        "from sklearn.base import BaseEstimator, TransformerMixin\n",
        "\n",
        "class IdentifyRepeats(BaseEstimator, TransformerMixin):\n",
        "    def __init__(self):\n",
        "        pass\n",
        "\n",
        "    def fit(self, X, y=None):\n",
        "        #construct repeated devices\n",
        "        self.repeated_devices = set(\n",
        "            (X.value_counts() > 1)\n",
        "            .to_frame()\n",
        "            .query(\"device_id == True\")\n",
        "            .index\n",
        "            \n",
        "            )\n",
        "\n",
        "        return self\n",
        "\n",
        "    def transform(self, X):\n",
        "        \"\"\"X is a series, FYI\"\"\"\n",
        "        return X.isin(self.repeated_devices).values.reshape(-1,1)"
      ],
      "metadata": {
        "id": "q-_Da0-X-7KR"
      },
      "execution_count": null,
      "outputs": []
    },
    {
      "cell_type": "code",
      "source": [
        ""
      ],
      "metadata": {
        "id": "JXcPPx3zgjpP"
      },
      "execution_count": null,
      "outputs": []
    },
    {
      "cell_type": "code",
      "source": [
        "IdentifyRepeats().fit_transform(X_train['device_id']).sum()"
      ],
      "metadata": {
        "id": "YhCDKlFSB0Bu"
      },
      "execution_count": null,
      "outputs": []
    },
    {
      "cell_type": "code",
      "source": [
        "IdentifyRepeats().fit(X_train['device_id']).transform(X_test['device_id'])"
      ],
      "metadata": {
        "id": "SNZCTpekCGOR"
      },
      "execution_count": null,
      "outputs": []
    },
    {
      "cell_type": "code",
      "source": [
        "model = Pipeline([\n",
        "                  (\"selector\", ColumnTransformer([\n",
        "                      (\"numerical\", pipe_num, [\"age\", \"purchase_value\"]),\n",
        "                      (\"categorical\", pip_cat, [\"sex\", \"browser\", \"source\"]),\n",
        "                      (\"repeated_devices\", IdentifyRepeats(), \"device_id\")\n",
        "                  ])),\n",
        "                  (\"classifier\", LogisticRegression(class_weight=\"balanced\"))\n",
        "\n",
        "\n",
        "])"
      ],
      "metadata": {
        "id": "gluS_u5ICiL-"
      },
      "execution_count": null,
      "outputs": []
    },
    {
      "cell_type": "code",
      "source": [
        "model.fit(X_train, y_train)"
      ],
      "metadata": {
        "id": "FHlG48TtDvZ1"
      },
      "execution_count": null,
      "outputs": []
    },
    {
      "cell_type": "code",
      "source": [
        "evaluate_model(model, X_train, y_train, \"Training\")"
      ],
      "metadata": {
        "id": "P2_Kg5SYDzgw"
      },
      "execution_count": null,
      "outputs": []
    },
    {
      "cell_type": "code",
      "source": [
        "evaluate_model(model, X_test, y_test, \"Testing\")"
      ],
      "metadata": {
        "id": "OW2515oYD-Vv"
      },
      "execution_count": null,
      "outputs": []
    },
    {
      "cell_type": "code",
      "source": [
        "y_pred = model.predict(X_train)"
      ],
      "metadata": {
        "id": "nHnCkDSkGTZv"
      },
      "execution_count": null,
      "outputs": []
    },
    {
      "cell_type": "code",
      "source": [
        "y_pred & ~y_train"
      ],
      "metadata": {
        "id": "XIYOusa-GY4E"
      },
      "execution_count": null,
      "outputs": []
    },
    {
      "cell_type": "code",
      "source": [
        "from sklearn.metrics import confusion_matrix"
      ],
      "metadata": {
        "id": "mnT4FqBfG39e"
      },
      "execution_count": null,
      "outputs": []
    },
    {
      "cell_type": "code",
      "source": [
        "confusion_matrix(y_train, y_pred)"
      ],
      "metadata": {
        "id": "ZcOS8ai6G8io"
      },
      "execution_count": null,
      "outputs": []
    },
    {
      "cell_type": "code",
      "source": [
        "X_train.loc[(~y_pred & y_train).index, \"purchase_value\"]"
      ],
      "metadata": {
        "id": "awZVfDCOImYO"
      },
      "execution_count": null,
      "outputs": []
    },
    {
      "cell_type": "code",
      "source": [
        "def cost_func(model, X, y_true):\n",
        "    \"\"\"\n",
        "    Return cost of model based upon FP and FN\n",
        "    Cost = 7 * FP + purchase value of each FN\n",
        "    \"\"\"\n",
        "    y_pred = model.predict(X)\n",
        "    FP = (y_pred & ~y_true).sum()\n",
        "\n",
        "    # FN: we say it's NOT fraudulent (y=0) AND it's truely Fraudulent (y_true = 1)\n",
        "    FN = X.loc[(~y_pred & y_true).index, \"purchase_value\"].sum()\n",
        "\n",
        "    return 7 * FP + FN\n",
        "\n"
      ],
      "metadata": {
        "id": "4YhQnzKtEKtl"
      },
      "execution_count": null,
      "outputs": []
    },
    {
      "cell_type": "code",
      "source": [
        "cost_func(model, X_train, y_train) / X_train.shape[0]"
      ],
      "metadata": {
        "id": "beub54bLJQ1q"
      },
      "execution_count": null,
      "outputs": []
    },
    {
      "cell_type": "code",
      "source": [
        "cost_func(model_naive, X_train, y_train) / X_train.shape[0]"
      ],
      "metadata": {
        "id": "YLXlLPcFJVTy"
      },
      "execution_count": null,
      "outputs": []
    },
    {
      "cell_type": "code",
      "source": [
        "cost_func(model, X_test, y_test) / X_test.shape[0]"
      ],
      "metadata": {
        "id": "t-Cgr-cuKBQ8"
      },
      "execution_count": null,
      "outputs": []
    },
    {
      "cell_type": "code",
      "source": [
        "cost_func(model_naive, X_test, y_test) / X_test.shape[0]"
      ],
      "metadata": {
        "id": "1fZEHoSGKRxe"
      },
      "execution_count": null,
      "outputs": []
    },
    {
      "cell_type": "code",
      "source": [
        ""
      ],
      "metadata": {
        "id": "maTjBbqMKUcK"
      },
      "execution_count": null,
      "outputs": []
    }
  ],
  "metadata": {
    "kernelspec": {
      "display_name": "Python 3",
      "language": "python",
      "name": "python3"
    },
    "language_info": {
      "codemirror_mode": {
        "name": "ipython",
        "version": 3
      },
      "file_extension": ".py",
      "mimetype": "text/x-python",
      "name": "python",
      "nbconvert_exporter": "python",
      "pygments_lexer": "ipython3",
      "version": "3.8.8"
    },
    "colab": {
      "name": "Fraud_Feature Engineering.ipynb",
      "provenance": [],
      "include_colab_link": true
    }
  },
  "nbformat": 4,
  "nbformat_minor": 0
}