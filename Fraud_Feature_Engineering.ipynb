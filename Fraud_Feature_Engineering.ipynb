{
  "cells": [
    {
      "cell_type": "code",
      "source": [
        "from google.colab import drive\n",
        "drive.mount('/content/drive/')"
      ],
      "metadata": {
        "colab": {
          "base_uri": "https://localhost:8080/"
        },
        "id": "8nWA4fuPk4ta",
        "outputId": "b4f47fe9-d793-4bce-fbf9-677f9bb56b39"
      },
      "execution_count": 2,
      "outputs": [
        {
          "output_type": "stream",
          "name": "stdout",
          "text": [
            "Drive already mounted at /content/drive/; to attempt to forcibly remount, call drive.mount(\"/content/drive/\", force_remount=True).\n"
          ]
        }
      ]
    },
    {
      "cell_type": "code",
      "source": [
        "%cd /content/drive/My Drive/Colab Notebooks"
      ],
      "metadata": {
        "colab": {
          "base_uri": "https://localhost:8080/"
        },
        "id": "7xAua3XslCsL",
        "outputId": "bc493a9a-ae6f-4227-cc92-4178f370af69"
      },
      "execution_count": 3,
      "outputs": [
        {
          "output_type": "stream",
          "name": "stdout",
          "text": [
            "/content/drive/My Drive/Colab Notebooks\n"
          ]
        }
      ]
    },
    {
      "cell_type": "code",
      "source": [
        "import pandas as pd"
      ],
      "metadata": {
        "id": "ozokOwWizotb"
      },
      "execution_count": 42,
      "outputs": []
    },
    {
      "cell_type": "code",
      "execution_count": 43,
      "metadata": {
        "id": "d0Sozk68gutw"
      },
      "outputs": [],
      "source": [
        "df = pd.read_csv('Fraud_Data.csv')"
      ]
    },
    {
      "cell_type": "code",
      "execution_count": null,
      "metadata": {
        "id": "essvImm9gutz"
      },
      "outputs": [],
      "source": [
        "df.shape"
      ]
    },
    {
      "cell_type": "code",
      "source": [
        "df.describe()"
      ],
      "metadata": {
        "id": "-9nhd1FsswuO"
      },
      "execution_count": null,
      "outputs": []
    },
    {
      "cell_type": "code",
      "source": [
        "df.info()"
      ],
      "metadata": {
        "id": "0JaIrtfns1QS"
      },
      "execution_count": null,
      "outputs": []
    },
    {
      "cell_type": "code",
      "execution_count": null,
      "metadata": {
        "id": "HgseNVZngut1"
      },
      "outputs": [],
      "source": [
        "X = df.drop('class', axis=1)"
      ]
    },
    {
      "cell_type": "code",
      "execution_count": null,
      "metadata": {
        "id": "-mW9DK8Ggut3"
      },
      "outputs": [],
      "source": [
        "X.shape"
      ]
    },
    {
      "cell_type": "code",
      "execution_count": null,
      "metadata": {
        "id": "l3zyJNCugut4"
      },
      "outputs": [],
      "source": [
        "y = df['class']"
      ]
    },
    {
      "cell_type": "code",
      "execution_count": null,
      "metadata": {
        "id": "zqoK5BJ-gut7"
      },
      "outputs": [],
      "source": [
        "# Most of the raw features we had don't seem to correlate so well with fraud vs not fraud\n",
        "\n",
        "# [Featre Engineering]\n",
        "# The time difference could be useful\n",
        "# The country information could also be useful"
      ]
    },
    {
      "cell_type": "code",
      "source": [
        "from sklearn.model_selection import train_test_split\n",
        "X_train, X_test, y_train, y_test = train_test_split(X,y)"
      ],
      "metadata": {
        "id": "bgSR_055rxyh"
      },
      "execution_count": null,
      "outputs": []
    },
    {
      "cell_type": "code",
      "source": [
        "def prepare_data():\n",
        "    df = pd.read_csv('Fraud_Data.csv')\n",
        "    X = df.drop('class', axis=1) \n",
        "    y = df['class']\n",
        "    \n",
        "    return train_test_split(X, y, test_size=0.2, random_state=0)"
      ],
      "metadata": {
        "id": "AbjwudXnj5Ru"
      },
      "execution_count": null,
      "outputs": []
    },
    {
      "cell_type": "code",
      "source": [
        "from utils import prepare_data\n",
        "\n",
        "X_train, X_test, y_train, y_test = prepare_data()"
      ],
      "metadata": {
        "id": "n9kmmRBEpQOt"
      },
      "execution_count": 58,
      "outputs": []
    },
    {
      "cell_type": "code",
      "execution_count": 8,
      "metadata": {
        "id": "7zwc9OX0guuA"
      },
      "outputs": [],
      "source": [
        "# Assume a Naive Model\n",
        "\n",
        "from sklearn.dummy import DummyClassifier\n",
        "\n",
        "DummyClassifier?"
      ]
    },
    {
      "cell_type": "code",
      "execution_count": null,
      "metadata": {
        "id": "4cpjPoHBguuB"
      },
      "outputs": [],
      "source": [
        "# What is our problem?\n",
        "# Well, we want to detect fraud in commercial transactions\n",
        "# So we can either say something is Fraud or not Fraud"
      ]
    },
    {
      "cell_type": "code",
      "execution_count": null,
      "metadata": {
        "id": "NrIJLRSrguuC"
      },
      "outputs": [],
      "source": [
        "# We can say that it's really important that we identify all instances of fraud\n",
        "# So in general, it's OK if we misclassify a transaction as fraudulent when it's not really\n",
        "# If we call a fraudulent transaction as +\n",
        "# Then what do we care about more? Precision or Recall?\n",
        "# Given our problem statement, we want high recall"
      ]
    },
    {
      "cell_type": "code",
      "execution_count": null,
      "metadata": {
        "id": "L4Wz8JLfguuC"
      },
      "outputs": [],
      "source": [
        "DummyClassifier"
      ]
    },
    {
      "cell_type": "code",
      "execution_count": 9,
      "metadata": {
        "id": "ZKNG_DGDguuD"
      },
      "outputs": [],
      "source": [
        "model_naive = DummyClassifier(strategy=\"constant\", constant=1).fit(X_train, y_train)\n",
        "y_pred = model_naive.predict(X_train)"
      ]
    },
    {
      "cell_type": "code",
      "execution_count": 10,
      "metadata": {
        "id": "qjFJMZZMguuD"
      },
      "outputs": [],
      "source": [
        "from sklearn.metrics import recall_score, f1_score"
      ]
    },
    {
      "cell_type": "code",
      "execution_count": null,
      "metadata": {
        "id": "keIz2nQoguuE"
      },
      "outputs": [],
      "source": [
        "recall_score(y_train, y_pred)"
      ]
    },
    {
      "cell_type": "code",
      "execution_count": null,
      "metadata": {
        "id": "EcXB5PJ3guuE"
      },
      "outputs": [],
      "source": [
        "DummyClassifier?"
      ]
    },
    {
      "cell_type": "code",
      "execution_count": null,
      "metadata": {
        "id": "qEJMEau4guuF"
      },
      "outputs": [],
      "source": [
        "y_train.mean()"
      ]
    },
    {
      "cell_type": "code",
      "execution_count": null,
      "metadata": {
        "id": "EFOU4m6kguuG"
      },
      "outputs": [],
      "source": [
        "f1_score(y_test, y_pred)"
      ]
    },
    {
      "cell_type": "code",
      "execution_count": 11,
      "metadata": {
        "id": "BZpJISVZguuQ"
      },
      "outputs": [],
      "source": [
        "def evaluate_model(model, X, y, mode):\n",
        "    y_pred = model.predict(X)\n",
        "    recall = recall_score(y, y_pred)\n",
        "    f1 = f1_score(y, y_pred)\n",
        "    \n",
        "    print(f\"{mode} recall: {recall :g}\")\n",
        "    print(f\"{mode} F-1 score: {f1 :g}\")"
      ]
    },
    {
      "cell_type": "code",
      "execution_count": null,
      "metadata": {
        "id": "LSPeopBYguuQ"
      },
      "outputs": [],
      "source": [
        "evaluate_model(model_naive, X_train, y_train, \"Training\")"
      ]
    },
    {
      "cell_type": "code",
      "execution_count": null,
      "metadata": {
        "id": "5LNWVWPoguuR"
      },
      "outputs": [],
      "source": [
        "evaluate_model(model_naive, X_test, y_test, \"Testing\")"
      ]
    },
    {
      "cell_type": "code",
      "execution_count": null,
      "metadata": {
        "id": "OSxx7DrYguuR"
      },
      "outputs": [],
      "source": [
        "X_train"
      ]
    },
    {
      "cell_type": "code",
      "execution_count": null,
      "metadata": {
        "id": "ORhb75PUguuS"
      },
      "outputs": [],
      "source": [
        "# our first model will be built using the features:\n",
        "# purchse_value, age, source, browser, and sex"
      ]
    },
    {
      "cell_type": "code",
      "execution_count": 12,
      "metadata": {
        "id": "7Xo-ym8HguuT"
      },
      "outputs": [],
      "source": [
        "from sklearn.linear_model import LogisticRegressionCV, LogisticRegression"
      ]
    },
    {
      "cell_type": "code",
      "execution_count": null,
      "metadata": {
        "id": "74ioR6vwguuT"
      },
      "outputs": [],
      "source": [
        "# We have numerical and categorical data"
      ]
    },
    {
      "cell_type": "code",
      "execution_count": 13,
      "metadata": {
        "id": "ouMQF7v1guuU"
      },
      "outputs": [],
      "source": [
        "import numpy as np\n",
        "\n",
        "from sklearn.preprocessing import StandardScaler, MinMaxScaler\n",
        "from sklearn.compose import ColumnTransformer\n",
        "from sklearn.pipeline import Pipeline\n",
        "\n",
        "\n",
        "model = Pipeline([\n",
        "    (\"selector\", ColumnTransformer([(\"numerical\", \"passthrough\", [\"purchase_value\", \"age\"])])),\n",
        "    (\"scaler\", StandardScaler()),\n",
        "    (\"classifier\", LogisticRegression(class_weight=\"balanced\"))\n",
        "])"
      ]
    },
    {
      "cell_type": "code",
      "execution_count": 14,
      "metadata": {
        "id": "uCibGMnAguuU",
        "outputId": "2309aec8-a83d-4e7d-9404-4134d3b951b9",
        "colab": {
          "base_uri": "https://localhost:8080/"
        }
      },
      "outputs": [
        {
          "output_type": "execute_result",
          "data": {
            "text/plain": [
              "Pipeline(steps=[('selector',\n",
              "                 ColumnTransformer(transformers=[('numerical', 'passthrough',\n",
              "                                                  ['purchase_value', 'age'])])),\n",
              "                ('scaler', StandardScaler()),\n",
              "                ('classifier', LogisticRegression(class_weight='balanced'))])"
            ]
          },
          "metadata": {},
          "execution_count": 14
        }
      ],
      "source": [
        "model.fit(X_train, y_train)"
      ]
    },
    {
      "cell_type": "code",
      "source": [
        "#model[-1].C_"
      ],
      "metadata": {
        "id": "hRXeYFscvbZd"
      },
      "execution_count": null,
      "outputs": []
    },
    {
      "cell_type": "code",
      "execution_count": 15,
      "metadata": {
        "id": "2S0gp84iguuV",
        "outputId": "8af4eaa4-db4c-413d-cc88-202c8bbe06f3",
        "colab": {
          "base_uri": "https://localhost:8080/"
        }
      },
      "outputs": [
        {
          "output_type": "stream",
          "name": "stdout",
          "text": [
            "Training recall: 0.481631\n",
            "Training F-1 score: 0.159678\n"
          ]
        }
      ],
      "source": [
        "evaluate_model(model, X_train, y_train, \"Training\")"
      ]
    },
    {
      "cell_type": "code",
      "execution_count": null,
      "metadata": {
        "id": "oua_X0ybguuV"
      },
      "outputs": [],
      "source": [
        "evaluate_model(model, X_test, y_test, \"Testing\")"
      ]
    },
    {
      "cell_type": "code",
      "execution_count": null,
      "metadata": {
        "id": "-orwVTh0guuW"
      },
      "outputs": [],
      "source": [
        "y_pred = model.predict(X_test)"
      ]
    },
    {
      "cell_type": "code",
      "execution_count": null,
      "metadata": {
        "id": "rCOHqPgqguuW"
      },
      "outputs": [],
      "source": [
        "y_train.mean()"
      ]
    },
    {
      "cell_type": "code",
      "execution_count": 17,
      "metadata": {
        "id": "SxtDDD4IguuX"
      },
      "outputs": [],
      "source": [
        "from sklearn.preprocessing import OneHotEncoder"
      ]
    },
    {
      "cell_type": "code",
      "execution_count": null,
      "metadata": {
        "id": "5gNOaD3LguuZ"
      },
      "outputs": [],
      "source": [
        "model = Pipeline([\n",
        "    (\"selector\", ColumnTransformer([(\"numerical\", \"passthrough\", [\"sex\", \"browser\", \"source\"])])),\n",
        "    (\"encoder\", OneHotEncoder()),\n",
        "    (\"classifier\", LogisticRegression(class_weight=\"balanced\"))\n",
        "])"
      ]
    },
    {
      "cell_type": "code",
      "execution_count": null,
      "metadata": {
        "id": "nIPj4wtoguuZ"
      },
      "outputs": [],
      "source": [
        "model.fit(X_train, y_train)"
      ]
    },
    {
      "cell_type": "code",
      "execution_count": null,
      "metadata": {
        "id": "vMmQ9zQpguua"
      },
      "outputs": [],
      "source": [
        "evaluate_model(model, X_train, y_train, \"Training\")"
      ]
    },
    {
      "cell_type": "code",
      "execution_count": null,
      "metadata": {
        "id": "QUByhP_0guua"
      },
      "outputs": [],
      "source": [
        "evaluate_model(model, X_test, y_test, \"Testing\")"
      ]
    },
    {
      "cell_type": "code",
      "execution_count": null,
      "metadata": {
        "id": "ZUn4lT5mguub"
      },
      "outputs": [],
      "source": [
        "## Using Both numerical and Categorical"
      ]
    },
    {
      "cell_type": "code",
      "execution_count": 18,
      "metadata": {
        "id": "OTvkwD-wguub"
      },
      "outputs": [],
      "source": [
        "pipe_num = Pipeline([\n",
        "    (\"scaler\", StandardScaler()),\n",
        "])\n",
        "\n",
        "pip_cat = Pipeline([\n",
        "    (\"encoder\", OneHotEncoder()),\n",
        "])"
      ]
    },
    {
      "cell_type": "code",
      "execution_count": 19,
      "metadata": {
        "id": "hjmIiH4oguub"
      },
      "outputs": [],
      "source": [
        "model = Pipeline([\n",
        "    (\"selector\", ColumnTransformer([\n",
        "        (\"numerical\", pipe_num, [\"age\", \"purchase_value\"]),\n",
        "        (\"categorical\", pip_cat, [\"sex\", \"browser\", \"source\"]),\n",
        "    ])),\n",
        "    (\"classifier\", LogisticRegression(class_weight=\"balanced\"))\n",
        "])"
      ]
    },
    {
      "cell_type": "code",
      "execution_count": 45,
      "metadata": {
        "id": "Pn3v9bfRguuc",
        "outputId": "7c06fffd-2714-4505-82d7-486968692f59",
        "colab": {
          "base_uri": "https://localhost:8080/"
        }
      },
      "outputs": [
        {
          "output_type": "execute_result",
          "data": {
            "text/plain": [
              "Pipeline(steps=[('selector',\n",
              "                 ColumnTransformer(transformers=[('numerical',\n",
              "                                                  Pipeline(steps=[('scaler',\n",
              "                                                                   StandardScaler())]),\n",
              "                                                  ['age', 'purchase_value']),\n",
              "                                                 ('categorical',\n",
              "                                                  Pipeline(steps=[('encoder',\n",
              "                                                                   OneHotEncoder())]),\n",
              "                                                  ['sex', 'browser',\n",
              "                                                   'source'])])),\n",
              "                ('classifier', LogisticRegression(class_weight='balanced'))])"
            ]
          },
          "metadata": {},
          "execution_count": 45
        }
      ],
      "source": [
        "model.fit(X_train, y_train)"
      ]
    },
    {
      "cell_type": "code",
      "execution_count": 46,
      "metadata": {
        "id": "aKNkaOLwguuc",
        "outputId": "7cd4193b-9a8e-4b6b-e5bc-61e3feda3486",
        "colab": {
          "base_uri": "https://localhost:8080/"
        }
      },
      "outputs": [
        {
          "output_type": "stream",
          "name": "stdout",
          "text": [
            "Training recall: 0.503691\n",
            "Training F-1 score: 0.167873\n"
          ]
        }
      ],
      "source": [
        "evaluate_model(model, X_train, y_train, \"Training\")"
      ]
    },
    {
      "cell_type": "code",
      "execution_count": 22,
      "metadata": {
        "id": "bAtz8yorguud",
        "outputId": "d9f722ae-ed1d-474d-a1e5-23ad6da7a45f",
        "colab": {
          "base_uri": "https://localhost:8080/"
        }
      },
      "outputs": [
        {
          "output_type": "stream",
          "name": "stdout",
          "text": [
            "Testing recall: 0.514605\n",
            "Testing F-1 score: 0.166201\n"
          ]
        }
      ],
      "source": [
        "evaluate_model(model, X_test, y_test, \"Testing\")"
      ]
    },
    {
      "cell_type": "code",
      "source": [
        "threshold = 0.25\n",
        "\n",
        "y_pred = (model.predict_proba(X_test)[:, 1] > threshold).astype(int)"
      ],
      "metadata": {
        "id": "Zu7nk6OTtb4H"
      },
      "execution_count": 36,
      "outputs": []
    },
    {
      "cell_type": "code",
      "source": [
        "recall_score(y_test, y_pred)"
      ],
      "metadata": {
        "colab": {
          "base_uri": "https://localhost:8080/"
        },
        "id": "ctKxWIBIubah",
        "outputId": "47225e1e-6db3-46a0-b2b8-a397fc5349a9"
      },
      "execution_count": 37,
      "outputs": [
        {
          "output_type": "execute_result",
          "data": {
            "text/plain": [
              "1.0"
            ]
          },
          "metadata": {},
          "execution_count": 37
        }
      ]
    },
    {
      "cell_type": "code",
      "source": [
        "from sklearn.metrics import precision_score"
      ],
      "metadata": {
        "id": "lcVhBCLsvMXH"
      },
      "execution_count": 35,
      "outputs": []
    },
    {
      "cell_type": "code",
      "source": [
        "precision_score(y_test, y_pred)"
      ],
      "metadata": {
        "colab": {
          "base_uri": "https://localhost:8080/"
        },
        "id": "BKkkdiN_vaPU",
        "outputId": "a39d6838-8ec3-4d8d-cc4b-136a3adfd45d"
      },
      "execution_count": 38,
      "outputs": [
        {
          "output_type": "execute_result",
          "data": {
            "text/plain": [
              "0.09175131522350528"
            ]
          },
          "metadata": {},
          "execution_count": 38
        }
      ]
    },
    {
      "cell_type": "code",
      "source": [
        "#We can achieve any level of recall by changing the threshold\n",
        "#Maybe there's another metric we can use to choose our model"
      ],
      "metadata": {
        "id": "2dJWLu5wviLi"
      },
      "execution_count": null,
      "outputs": []
    },
    {
      "cell_type": "code",
      "source": [
        "#Two types of mistakes we can make:\n",
        "#False + : when we predict an observation is FRAUD but it's not\n",
        "#False - : When we predict an observation is FRAUD and it's really FRAUD (Costly in our case)"
      ],
      "metadata": {
        "id": "H67OXZzcwLxr"
      },
      "execution_count": null,
      "outputs": []
    },
    {
      "cell_type": "code",
      "source": [
        "#if False + is costly then you want HIGH PRECISION\n",
        "#if False _ is costly then you want HIGH RECALL"
      ],
      "metadata": {
        "id": "Y_suaaLDxkrV"
      },
      "execution_count": null,
      "outputs": []
    },
    {
      "cell_type": "code",
      "source": [
        "#We can say that if a transaction is Fraud and we fail to identify it \n",
        "#THEN we lose out however much money the transaction is \n"
      ],
      "metadata": {
        "id": "BPrBl7xMw_7H"
      },
      "execution_count": null,
      "outputs": []
    },
    {
      "cell_type": "code",
      "source": [
        "#if we have a False +, then we run the risk of annoying our customer\n",
        "#and there is some probability P that they will not go through the transaction"
      ],
      "metadata": {
        "id": "cLwWKWU6yT6b"
      },
      "execution_count": null,
      "outputs": []
    },
    {
      "cell_type": "code",
      "source": [
        "0.2 * X_train['purchase_value'].mean()"
      ],
      "metadata": {
        "colab": {
          "base_uri": "https://localhost:8080/"
        },
        "id": "Zq2aPW2uyuFy",
        "outputId": "1bb85a34-3f1d-4e62-96c8-4c1af71c3d04"
      },
      "execution_count": 40,
      "outputs": [
        {
          "output_type": "execute_result",
          "data": {
            "text/plain": [
              "7.393589160304081"
            ]
          },
          "metadata": {},
          "execution_count": 40
        }
      ]
    },
    {
      "cell_type": "code",
      "source": [
        "#let's populate that the cost of a False + is $7"
      ],
      "metadata": {
        "id": "I9Ta5s-By4Fv"
      },
      "execution_count": null,
      "outputs": []
    },
    {
      "cell_type": "code",
      "source": [
        "#Our Cost based on the two types we can make is as follows:\n",
        "#C = 7 * FP + purchase value of each FN"
      ],
      "metadata": {
        "id": "gqbz7NG2zKbV"
      },
      "execution_count": null,
      "outputs": []
    },
    {
      "cell_type": "markdown",
      "metadata": {
        "id": "hta6qLLgguuf"
      },
      "source": [
        "## Feature Engineering"
      ]
    },
    {
      "cell_type": "code",
      "execution_count": null,
      "metadata": {
        "id": "7oqpWGpiguug"
      },
      "outputs": [],
      "source": [
        "# Repeat customer/device\n",
        "# Time diff\n",
        "# Country"
      ]
    },
    {
      "cell_type": "code",
      "execution_count": 67,
      "metadata": {
        "id": "atnXdAjoguuh",
        "colab": {
          "base_uri": "https://localhost:8080/"
        },
        "outputId": "c176fc53-5712-4373-ef1d-549d3eb8e732"
      },
      "outputs": [
        {
          "output_type": "execute_result",
          "data": {
            "text/plain": [
              "Index(['user_id', 'signup_time', 'purchase_time', 'purchase_value',\n",
              "       'device_id', 'source', 'browser', 'sex', 'age', 'ip_address'],\n",
              "      dtype='object')"
            ]
          },
          "metadata": {},
          "execution_count": 67
        }
      ],
      "source": [
        "X_train.columns"
      ]
    },
    {
      "cell_type": "code",
      "source": [
        "X_train['device_id'].nunique()"
      ],
      "metadata": {
        "colab": {
          "base_uri": "https://localhost:8080/"
        },
        "id": "FA6Qz7h98gg9",
        "outputId": "5a501cab-c9f1-43e3-e8cf-6a9425adf910"
      },
      "execution_count": 48,
      "outputs": [
        {
          "output_type": "execute_result",
          "data": {
            "text/plain": [
              "111409"
            ]
          },
          "metadata": {},
          "execution_count": 48
        }
      ]
    },
    {
      "cell_type": "code",
      "source": [
        "X_train.shape"
      ],
      "metadata": {
        "colab": {
          "base_uri": "https://localhost:8080/"
        },
        "id": "K7J-nWxX83oW",
        "outputId": "3601a97f-b534-4f2c-ee89-c009b27f89b3"
      },
      "execution_count": 68,
      "outputs": [
        {
          "output_type": "execute_result",
          "data": {
            "text/plain": [
              "(120889, 10)"
            ]
          },
          "metadata": {},
          "execution_count": 68
        }
      ]
    },
    {
      "cell_type": "code",
      "source": [
        "repeated_device = set((X_train['device_id'].value_counts() > 1).to_frame().query(\"device_id == True\").index)"
      ],
      "metadata": {
        "id": "HiyRjU4h85r_"
      },
      "execution_count": 55,
      "outputs": []
    },
    {
      "cell_type": "code",
      "source": [
        "X_train['device_id'].isin(repeated_device).sum()"
      ],
      "metadata": {
        "colab": {
          "base_uri": "https://localhost:8080/"
        },
        "id": "oD_7jduu9eVY",
        "outputId": "410a8ffb-1cad-4f0a-dc74-457405ac59f5"
      },
      "execution_count": 57,
      "outputs": [
        {
          "output_type": "execute_result",
          "data": {
            "text/plain": [
              "13721"
            ]
          },
          "metadata": {},
          "execution_count": 57
        }
      ]
    },
    {
      "cell_type": "code",
      "source": [
        "from sklearn.base import BaseEstimator, TransformerMixin\n",
        "\n",
        "class IdentifyRepeats(BaseEstimator, TransformerMixin):\n",
        "    def __init__(self):\n",
        "        pass\n",
        "\n",
        "    def fit(self, X, y=None):\n",
        "        #construct repeated devices\n",
        "        self.repeated_devices = set(\n",
        "            (X.value_counts() > 1)\n",
        "            .to_frame()\n",
        "            .query(\"device_id == True\")\n",
        "            .index\n",
        "            \n",
        "            )\n",
        "\n",
        "        return self\n",
        "\n",
        "    def transform(self, X):\n",
        "        \"\"\"X is a series, FYI\"\"\"\n",
        "        return X.isin(self.repeated_devices).values.reshape(-1,1)"
      ],
      "metadata": {
        "id": "q-_Da0-X-7KR"
      },
      "execution_count": 59,
      "outputs": []
    },
    {
      "cell_type": "code",
      "source": [
        "IdentifyRepeats().fit_transform(X_train['device_id']).sum()"
      ],
      "metadata": {
        "colab": {
          "base_uri": "https://localhost:8080/"
        },
        "id": "YhCDKlFSB0Bu",
        "outputId": "14e877c3-001b-4ac9-b84c-23f4589944f6"
      },
      "execution_count": 62,
      "outputs": [
        {
          "output_type": "execute_result",
          "data": {
            "text/plain": [
              "13721"
            ]
          },
          "metadata": {},
          "execution_count": 62
        }
      ]
    },
    {
      "cell_type": "code",
      "source": [
        "IdentifyRepeats().fit(X_train['device_id']).transform(X_test['device_id'])"
      ],
      "metadata": {
        "colab": {
          "base_uri": "https://localhost:8080/"
        },
        "id": "SNZCTpekCGOR",
        "outputId": "4a5e427c-0818-44f6-9d23-896003b96b94"
      },
      "execution_count": 63,
      "outputs": [
        {
          "output_type": "execute_result",
          "data": {
            "text/plain": [
              "array([[False],\n",
              "       [False],\n",
              "       [False],\n",
              "       ...,\n",
              "       [False],\n",
              "       [False],\n",
              "       [False]])"
            ]
          },
          "metadata": {},
          "execution_count": 63
        }
      ]
    },
    {
      "cell_type": "code",
      "source": [
        "model = Pipeline([\n",
        "                  (\"selector\", ColumnTransformer([\n",
        "                      (\"numerical\", pipe_num, [\"age\", \"purchase_value\"]),\n",
        "                      (\"categorical\", pip_cat, [\"sex\", \"browser\", \"source\"]),\n",
        "                      (\"repeated_devices\", IdentifyRepeats(), \"device_id\")\n",
        "                  ])),\n",
        "                  (\"classifier\", LogisticRegression(class_weight=\"balanced\"))\n",
        "\n",
        "\n",
        "])"
      ],
      "metadata": {
        "id": "gluS_u5ICiL-"
      },
      "execution_count": 70,
      "outputs": []
    },
    {
      "cell_type": "code",
      "source": [
        "model.fit(X_train, y_train)"
      ],
      "metadata": {
        "colab": {
          "base_uri": "https://localhost:8080/"
        },
        "id": "FHlG48TtDvZ1",
        "outputId": "917dad06-26a8-4508-d78f-b24ee1a10e98"
      },
      "execution_count": 71,
      "outputs": [
        {
          "output_type": "execute_result",
          "data": {
            "text/plain": [
              "Pipeline(steps=[('selector',\n",
              "                 ColumnTransformer(transformers=[('numerical',\n",
              "                                                  Pipeline(steps=[('scaler',\n",
              "                                                                   StandardScaler())]),\n",
              "                                                  ['age', 'purchase_value']),\n",
              "                                                 ('categorical',\n",
              "                                                  Pipeline(steps=[('encoder',\n",
              "                                                                   OneHotEncoder())]),\n",
              "                                                  ['sex', 'browser', 'source']),\n",
              "                                                 ('repeated_devices',\n",
              "                                                  IdentifyRepeats(),\n",
              "                                                  'device_id')])),\n",
              "                ('classifier', LogisticRegression(class_weight='balanced'))])"
            ]
          },
          "metadata": {},
          "execution_count": 71
        }
      ]
    },
    {
      "cell_type": "code",
      "source": [
        "evaluate_model(model, X_train, y_train, \"Training\")"
      ],
      "metadata": {
        "colab": {
          "base_uri": "https://localhost:8080/"
        },
        "id": "P2_Kg5SYDzgw",
        "outputId": "09e6ff86-df3c-46df-fa2e-93970b35febf"
      },
      "execution_count": 72,
      "outputs": [
        {
          "output_type": "stream",
          "name": "stdout",
          "text": [
            "Training recall: 0.676745\n",
            "Training F-1 score: 0.61357\n"
          ]
        }
      ]
    },
    {
      "cell_type": "code",
      "source": [
        "evaluate_model(model, X_test, y_test, \"Testing\")"
      ],
      "metadata": {
        "colab": {
          "base_uri": "https://localhost:8080/"
        },
        "id": "OW2515oYD-Vv",
        "outputId": "3f6011a2-59f7-4806-f567-b4291c42152d"
      },
      "execution_count": 73,
      "outputs": [
        {
          "output_type": "stream",
          "name": "stdout",
          "text": [
            "Testing recall: 0.562928\n",
            "Testing F-1 score: 0.693162\n"
          ]
        }
      ]
    },
    {
      "cell_type": "code",
      "source": [
        "y_pred = model.predict(X_train)"
      ],
      "metadata": {
        "id": "nHnCkDSkGTZv"
      },
      "execution_count": 74,
      "outputs": []
    },
    {
      "cell_type": "code",
      "source": [
        "y_pred & ~y_train"
      ],
      "metadata": {
        "colab": {
          "base_uri": "https://localhost:8080/"
        },
        "id": "XIYOusa-GY4E",
        "outputId": "f8d74ff6-811b-4281-d498-bffbdcdee9b0"
      },
      "execution_count": 75,
      "outputs": [
        {
          "output_type": "execute_result",
          "data": {
            "text/plain": [
              "32979     0\n",
              "30067     0\n",
              "46626     0\n",
              "9053      0\n",
              "15635     0\n",
              "         ..\n",
              "41993     0\n",
              "97639     0\n",
              "95939     0\n",
              "117952    1\n",
              "43567     0\n",
              "Name: class, Length: 120889, dtype: int64"
            ]
          },
          "metadata": {},
          "execution_count": 75
        }
      ]
    },
    {
      "cell_type": "code",
      "source": [
        "from sklearn.metrics import confusion_matrix"
      ],
      "metadata": {
        "id": "mnT4FqBfG39e"
      },
      "execution_count": 76,
      "outputs": []
    },
    {
      "cell_type": "code",
      "source": [
        "confusion_matrix(y_train, y_pred)"
      ],
      "metadata": {
        "colab": {
          "base_uri": "https://localhost:8080/"
        },
        "id": "ZcOS8ai6G8io",
        "outputId": "e32561eb-7984-4de2-d839-8739354d430a"
      },
      "execution_count": 77,
      "outputs": [
        {
          "output_type": "execute_result",
          "data": {
            "text/plain": [
              "array([[103490,   6021],\n",
              "       [  3678,   7700]])"
            ]
          },
          "metadata": {},
          "execution_count": 77
        }
      ]
    },
    {
      "cell_type": "code",
      "source": [
        "X_train.loc[(~y_pred & y_train).index, \"purchase_value\"]"
      ],
      "metadata": {
        "colab": {
          "base_uri": "https://localhost:8080/"
        },
        "id": "awZVfDCOImYO",
        "outputId": "893c3810-5a35-4727-afd3-f4909be865d2"
      },
      "execution_count": 78,
      "outputs": [
        {
          "output_type": "execute_result",
          "data": {
            "text/plain": [
              "32979     30\n",
              "30067     18\n",
              "46626     43\n",
              "9053      24\n",
              "15635     55\n",
              "          ..\n",
              "41993     70\n",
              "97639     37\n",
              "95939      9\n",
              "117952    11\n",
              "43567     24\n",
              "Name: purchase_value, Length: 120889, dtype: int64"
            ]
          },
          "metadata": {},
          "execution_count": 78
        }
      ]
    },
    {
      "cell_type": "code",
      "source": [
        "def cost_func(model, X, y_true):\n",
        "    \"\"\"\n",
        "    Return cost of model based upon FP and FN\n",
        "    Cost = 7 * FP + purchase value of each FN\n",
        "    \"\"\"\n",
        "    y_pred = model.predict(X)\n",
        "    FP = (y_pred & ~y_true).sum()\n",
        "\n",
        "    # FN: we say it's NOT fraudulent (y=0) AND it's truely Fraudulent (y_true = 1)\n",
        "    FN = X.loc[(~y_pred & y_true).index, \"purchase_value\"].sum()\n",
        "\n",
        "    return 7 * FP + FN\n",
        "\n"
      ],
      "metadata": {
        "id": "4YhQnzKtEKtl"
      },
      "execution_count": 84,
      "outputs": []
    },
    {
      "cell_type": "code",
      "source": [
        "cost_func(model, X_train, y_train) / X_train.shape[0]"
      ],
      "metadata": {
        "colab": {
          "base_uri": "https://localhost:8080/"
        },
        "id": "beub54bLJQ1q",
        "outputId": "5a50ad14-d724-4753-d188-7bb9a1e84193"
      },
      "execution_count": 87,
      "outputs": [
        {
          "output_type": "execute_result",
          "data": {
            "text/plain": [
              "37.31658794431255"
            ]
          },
          "metadata": {},
          "execution_count": 87
        }
      ]
    },
    {
      "cell_type": "code",
      "source": [
        "cost_func(model_naive, X_train, y_train) / X_train.shape[0]"
      ],
      "metadata": {
        "colab": {
          "base_uri": "https://localhost:8080/"
        },
        "id": "YLXlLPcFJVTy",
        "outputId": "2a894027-3d67-4619-b249-f766315be9c6"
      },
      "execution_count": 89,
      "outputs": [
        {
          "output_type": "execute_result",
          "data": {
            "text/plain": [
              "43.309110010009185"
            ]
          },
          "metadata": {},
          "execution_count": 89
        }
      ]
    },
    {
      "cell_type": "code",
      "source": [
        "cost_func(model, X_test, y_test) / X_test.shape[0]"
      ],
      "metadata": {
        "colab": {
          "base_uri": "https://localhost:8080/"
        },
        "id": "t-Cgr-cuKBQ8",
        "outputId": "20db08a1-5678-4c28-c7f1-ce619e1640a1"
      },
      "execution_count": 92,
      "outputs": [
        {
          "output_type": "execute_result",
          "data": {
            "text/plain": [
              "36.84445620884757"
            ]
          },
          "metadata": {},
          "execution_count": 92
        }
      ]
    },
    {
      "cell_type": "code",
      "source": [
        "cost_func(model_naive, X_test, y_test) / X_test.shape[0]"
      ],
      "metadata": {
        "colab": {
          "base_uri": "https://localhost:8080/"
        },
        "id": "1fZEHoSGKRxe",
        "outputId": "0caeca4f-9ced-4acf-d0a3-bde1de01e9dd"
      },
      "execution_count": 93,
      "outputs": [
        {
          "output_type": "execute_result",
          "data": {
            "text/plain": [
              "43.16282301558416"
            ]
          },
          "metadata": {},
          "execution_count": 93
        }
      ]
    },
    {
      "cell_type": "code",
      "source": [
        ""
      ],
      "metadata": {
        "id": "maTjBbqMKUcK"
      },
      "execution_count": null,
      "outputs": []
    }
  ],
  "metadata": {
    "kernelspec": {
      "display_name": "Python 3",
      "language": "python",
      "name": "python3"
    },
    "language_info": {
      "codemirror_mode": {
        "name": "ipython",
        "version": 3
      },
      "file_extension": ".py",
      "mimetype": "text/x-python",
      "name": "python",
      "nbconvert_exporter": "python",
      "pygments_lexer": "ipython3",
      "version": "3.8.8"
    },
    "colab": {
      "name": "Fraud_Feature Engineering.ipynb",
      "provenance": []
    }
  },
  "nbformat": 4,
  "nbformat_minor": 0
}