{
  "cells": [
    {
      "cell_type": "code",
      "source": [
        "from google.colab import drive\n",
        "drive.mount('/content/drive/')"
      ],
      "metadata": {
        "id": "rbyNQDXTOyU8"
      },
      "execution_count": null,
      "outputs": []
    },
    {
      "cell_type": "code",
      "source": [
        "%cd /content/drive/My Drive/Colab Notebooks"
      ],
      "metadata": {
        "id": "TQKFeG4rO1E3"
      },
      "execution_count": null,
      "outputs": []
    },
    {
      "cell_type": "code",
      "execution_count": null,
      "metadata": {
        "id": "1KeD_E5UaMSe"
      },
      "outputs": [],
      "source": [
        "from utils import cost_func, prepare_data\n",
        "\n",
        "X_train, X_test, y_train, y_test = prepare_data()"
      ]
    },
    {
      "cell_type": "code",
      "execution_count": null,
      "metadata": {
        "id": "eCWJoZRUaMSg"
      },
      "outputs": [],
      "source": [
        "# Assume a Naive Model\n",
        "from sklearn.dummy import DummyClassifier\n",
        "\n",
        "model_naive = DummyClassifier(strategy=\"constant\", constant=1).fit(X_train, y_train)"
      ]
    },
    {
      "cell_type": "code",
      "execution_count": null,
      "metadata": {
        "id": "4STzPsO1aMSi"
      },
      "outputs": [],
      "source": [
        "from utils import evaluate_model"
      ]
    },
    {
      "cell_type": "code",
      "execution_count": null,
      "metadata": {
        "id": "CxUecv0-aMSj",
        "outputId": "6e3d224a-f623-4cae-bfa7-d10f28ae9e95"
      },
      "outputs": [
        {
          "name": "stdout",
          "output_type": "stream",
          "text": [
            "Training recall: 1\n",
            "Training F-1 score: 0.172046\n"
          ]
        }
      ],
      "source": [
        "evaluate_model(model_naive, X_train, y_train, \"Training\")"
      ]
    },
    {
      "cell_type": "code",
      "execution_count": null,
      "metadata": {
        "id": "Xkj2KiSKaMSl",
        "outputId": "ae7cf19f-5dda-43dd-c237-9b7b20dccdbc"
      },
      "outputs": [
        {
          "name": "stdout",
          "output_type": "stream",
          "text": [
            "Testing recall: 1\n",
            "Testing F-1 score: 0.168081\n"
          ]
        }
      ],
      "source": [
        "evaluate_model(model_naive, X_test, y_test, \"Testing\")"
      ]
    },
    {
      "cell_type": "code",
      "execution_count": null,
      "metadata": {
        "id": "yawSNW_UaMSm",
        "outputId": "4401894c-5ee0-47e1-c845-f42eb0f9e0dd"
      },
      "outputs": [
        {
          "data": {
            "text/plain": [
              "-43.309110010009185"
            ]
          },
          "execution_count": 6,
          "metadata": {},
          "output_type": "execute_result"
        }
      ],
      "source": [
        "cost_func(model_naive, X_train, y_train) / X_train.shape[0]"
      ]
    },
    {
      "cell_type": "code",
      "execution_count": null,
      "metadata": {
        "id": "5-hN2xzvaMSm",
        "outputId": "378e213f-c8ca-4338-f7a9-16bb33975a51"
      },
      "outputs": [
        {
          "data": {
            "text/plain": [
              "-43.16282301558416"
            ]
          },
          "execution_count": 7,
          "metadata": {},
          "output_type": "execute_result"
        }
      ],
      "source": [
        "cost_func(model_naive, X_test, y_test) / X_test.shape[0]"
      ]
    },
    {
      "cell_type": "markdown",
      "metadata": {
        "id": "Z0CY2WQeaMSn"
      },
      "source": [
        "## My first serious model"
      ]
    },
    {
      "cell_type": "code",
      "execution_count": null,
      "metadata": {
        "id": "p1pqVKQuaMSp"
      },
      "outputs": [],
      "source": [
        "from sklearn.compose import ColumnTransformer\n",
        "from sklearn.linear_model import LogisticRegression\n",
        "from sklearn.pipeline import Pipeline\n",
        "from sklearn.preprocessing import OneHotEncoder, StandardScaler"
      ]
    },
    {
      "cell_type": "code",
      "source": [
        ""
      ],
      "metadata": {
        "id": "cfCuHNSFOwNG"
      },
      "execution_count": null,
      "outputs": []
    },
    {
      "cell_type": "code",
      "execution_count": null,
      "metadata": {
        "id": "LYyF3_IZaMSq"
      },
      "outputs": [],
      "source": [
        "pipe_num = Pipeline([\n",
        "    (\"scaler\", StandardScaler()),\n",
        "])\n",
        "\n",
        "pip_cat = Pipeline([\n",
        "    (\"encoder\", OneHotEncoder()),\n",
        "])"
      ]
    },
    {
      "cell_type": "code",
      "execution_count": null,
      "metadata": {
        "id": "n5RTYnTGaMSu"
      },
      "outputs": [],
      "source": [
        "model = Pipeline([\n",
        "    (\"selector\", ColumnTransformer([\n",
        "        (\"numerical\", pipe_num, [\"age\", \"purchase_value\"]),\n",
        "        (\"categorical\", pip_cat, [\"sex\", \"browser\", \"source\"]),\n",
        "    ])),\n",
        "    (\"classifier\", LogisticRegression(class_weight=\"balanced\"))\n",
        "])"
      ]
    },
    {
      "cell_type": "code",
      "execution_count": null,
      "metadata": {
        "id": "zTzTs1bZaMSw",
        "outputId": "aff20c82-edd8-4df2-a44a-775c53eb2f9d"
      },
      "outputs": [
        {
          "data": {
            "text/plain": [
              "Pipeline(steps=[('selector',\n",
              "                 ColumnTransformer(transformers=[('numerical',\n",
              "                                                  Pipeline(steps=[('scaler',\n",
              "                                                                   StandardScaler())]),\n",
              "                                                  ['age', 'purchase_value']),\n",
              "                                                 ('categorical',\n",
              "                                                  Pipeline(steps=[('encoder',\n",
              "                                                                   OneHotEncoder())]),\n",
              "                                                  ['sex', 'browser',\n",
              "                                                   'source'])])),\n",
              "                ('classifier', LogisticRegression(class_weight='balanced'))])"
            ]
          },
          "execution_count": 11,
          "metadata": {},
          "output_type": "execute_result"
        }
      ],
      "source": [
        "model.fit(X_train, y_train)"
      ]
    },
    {
      "cell_type": "code",
      "execution_count": null,
      "metadata": {
        "id": "UL6NEyPyaMS0",
        "outputId": "5b17b531-06d3-433a-d405-02232af6d37a"
      },
      "outputs": [
        {
          "name": "stdout",
          "output_type": "stream",
          "text": [
            "Training recall: 0.503691\n",
            "Training F-1 score: 0.167873\n"
          ]
        }
      ],
      "source": [
        "evaluate_model(model, X_train, y_train, \"Training\")"
      ]
    },
    {
      "cell_type": "code",
      "execution_count": null,
      "metadata": {
        "id": "KFsJ2XdsaMS2",
        "outputId": "05fa9d61-6fe6-4ffe-96d1-11156c21dcaf"
      },
      "outputs": [
        {
          "name": "stdout",
          "output_type": "stream",
          "text": [
            "Testing recall: 0.514605\n",
            "Testing F-1 score: 0.166201\n"
          ]
        }
      ],
      "source": [
        "evaluate_model(model, X_test, y_test, \"Testing\")"
      ]
    },
    {
      "cell_type": "code",
      "execution_count": null,
      "metadata": {
        "id": "8KCqUAKaaMS2",
        "outputId": "057a0704-8fea-4bfc-ffcd-13ed4e4faa63"
      },
      "outputs": [
        {
          "data": {
            "text/plain": [
              "-39.93085392384749"
            ]
          },
          "execution_count": 14,
          "metadata": {},
          "output_type": "execute_result"
        }
      ],
      "source": [
        "cost_func(model, X_train, y_train) / X_train.shape[0]"
      ]
    },
    {
      "cell_type": "code",
      "execution_count": null,
      "metadata": {
        "id": "p0w2rGqfaMS3",
        "outputId": "b49bb971-b354-4093-c2de-c6e6631c86ea"
      },
      "outputs": [
        {
          "data": {
            "text/plain": [
              "-43.16282301558416"
            ]
          },
          "execution_count": 15,
          "metadata": {},
          "output_type": "execute_result"
        }
      ],
      "source": [
        "cost_func(model_naive, X_test, y_test) / X_test.shape[0]"
      ]
    },
    {
      "cell_type": "markdown",
      "metadata": {
        "id": "AkVa7IuGaMS3"
      },
      "source": [
        "## Feature Engineering"
      ]
    },
    {
      "cell_type": "code",
      "execution_count": null,
      "metadata": {
        "id": "hIoCWmvlaMS4"
      },
      "outputs": [],
      "source": [
        "# Repeat customer/device\n",
        "# Time diff\n",
        "# Country"
      ]
    },
    {
      "cell_type": "code",
      "execution_count": null,
      "metadata": {
        "id": "kHR0w5zwaMS5"
      },
      "outputs": [],
      "source": [
        "from custom_estimator import IdentifyRepeats"
      ]
    },
    {
      "cell_type": "code",
      "execution_count": null,
      "metadata": {
        "id": "oqDReMtRaMS6"
      },
      "outputs": [],
      "source": [
        "model = Pipeline([\n",
        "    (\"selector\", ColumnTransformer([\n",
        "        (\"numerical\", pipe_num, [\"age\", \"purchase_value\"]),\n",
        "        (\"categorical\", pip_cat, [\"sex\", \"browser\", \"source\"]),\n",
        "        (\"repated_devices\", IdentifyRepeats(), \"device_id\"),\n",
        "    ])),\n",
        "    (\"classifier\", LogisticRegression(class_weight=\"balanced\"))\n",
        "])"
      ]
    },
    {
      "cell_type": "code",
      "execution_count": null,
      "metadata": {
        "id": "oUat90dBaMS6",
        "outputId": "a50bd66a-3001-4924-9ab6-12a10c4cc8fc"
      },
      "outputs": [
        {
          "data": {
            "text/plain": [
              "Pipeline(steps=[('selector',\n",
              "                 ColumnTransformer(transformers=[('numerical',\n",
              "                                                  Pipeline(steps=[('scaler',\n",
              "                                                                   StandardScaler())]),\n",
              "                                                  ['age', 'purchase_value']),\n",
              "                                                 ('categorical',\n",
              "                                                  Pipeline(steps=[('encoder',\n",
              "                                                                   OneHotEncoder())]),\n",
              "                                                  ['sex', 'browser', 'source']),\n",
              "                                                 ('repated_devices',\n",
              "                                                  IdentifyRepeats(),\n",
              "                                                  'device_id')])),\n",
              "                ('classifier', LogisticRegression(class_weight='balanced'))])"
            ]
          },
          "execution_count": 19,
          "metadata": {},
          "output_type": "execute_result"
        }
      ],
      "source": [
        "model.fit(X_train, y_train)"
      ]
    },
    {
      "cell_type": "code",
      "execution_count": null,
      "metadata": {
        "id": "QhmsgC_MaMS7",
        "outputId": "0aa7ee58-28d3-4152-e259-58fa2ca3aa80"
      },
      "outputs": [
        {
          "name": "stdout",
          "output_type": "stream",
          "text": [
            "Training recall: 0.676745\n",
            "Training F-1 score: 0.61357\n"
          ]
        }
      ],
      "source": [
        "evaluate_model(model, X_train, y_train, \"Training\")"
      ]
    },
    {
      "cell_type": "code",
      "execution_count": null,
      "metadata": {
        "id": "pvl2fv03aMS8",
        "outputId": "3791bf7b-b77b-4ba9-b452-bd624f428664"
      },
      "outputs": [
        {
          "name": "stdout",
          "output_type": "stream",
          "text": [
            "Testing recall: 0.562928\n",
            "Testing F-1 score: 0.693162\n"
          ]
        }
      ],
      "source": [
        "evaluate_model(model, X_test, y_test, \"Testing\")"
      ]
    },
    {
      "cell_type": "code",
      "execution_count": null,
      "metadata": {
        "id": "ZUj2NsgFaMS9",
        "outputId": "6078e447-c7a2-4787-c9e3-a071e61ddd9e"
      },
      "outputs": [
        {
          "data": {
            "text/plain": [
              "-37.31658794431255"
            ]
          },
          "execution_count": 22,
          "metadata": {},
          "output_type": "execute_result"
        }
      ],
      "source": [
        "cost_func(model, X_train, y_train) / X_train.shape[0]"
      ]
    },
    {
      "cell_type": "code",
      "execution_count": null,
      "metadata": {
        "id": "ELY3-GECaMS-",
        "outputId": "d4de79f2-d784-4b92-92bd-937d9bb8eff3"
      },
      "outputs": [
        {
          "data": {
            "text/plain": [
              "-36.84445620884757"
            ]
          },
          "execution_count": 23,
          "metadata": {},
          "output_type": "execute_result"
        }
      ],
      "source": [
        "cost_func(model, X_test, y_test) / X_test.shape[0]"
      ]
    },
    {
      "cell_type": "markdown",
      "metadata": {
        "id": "ovw5XXksaMS-"
      },
      "source": [
        "### Time difference"
      ]
    },
    {
      "cell_type": "code",
      "execution_count": null,
      "metadata": {
        "id": "bzTXVSLWaMS_",
        "outputId": "0c409a76-260a-48d5-dae9-44ed62db6ea2"
      },
      "outputs": [
        {
          "data": {
            "text/html": [
              "<div>\n",
              "<style scoped>\n",
              "    .dataframe tbody tr th:only-of-type {\n",
              "        vertical-align: middle;\n",
              "    }\n",
              "\n",
              "    .dataframe tbody tr th {\n",
              "        vertical-align: top;\n",
              "    }\n",
              "\n",
              "    .dataframe thead th {\n",
              "        text-align: right;\n",
              "    }\n",
              "</style>\n",
              "<table border=\"1\" class=\"dataframe\">\n",
              "  <thead>\n",
              "    <tr style=\"text-align: right;\">\n",
              "      <th></th>\n",
              "      <th>user_id</th>\n",
              "      <th>signup_time</th>\n",
              "      <th>purchase_time</th>\n",
              "      <th>purchase_value</th>\n",
              "      <th>device_id</th>\n",
              "      <th>source</th>\n",
              "      <th>browser</th>\n",
              "      <th>sex</th>\n",
              "      <th>age</th>\n",
              "      <th>ip_address</th>\n",
              "    </tr>\n",
              "  </thead>\n",
              "  <tbody>\n",
              "    <tr>\n",
              "      <th>32979</th>\n",
              "      <td>145352</td>\n",
              "      <td>2015-02-16 13:01:04</td>\n",
              "      <td>2015-06-12 23:40:56</td>\n",
              "      <td>30</td>\n",
              "      <td>IKWJBCUANABZN</td>\n",
              "      <td>Ads</td>\n",
              "      <td>IE</td>\n",
              "      <td>F</td>\n",
              "      <td>34</td>\n",
              "      <td>2.811704e+09</td>\n",
              "    </tr>\n",
              "    <tr>\n",
              "      <th>30067</th>\n",
              "      <td>288944</td>\n",
              "      <td>2015-02-02 10:07:32</td>\n",
              "      <td>2015-02-14 06:02:02</td>\n",
              "      <td>18</td>\n",
              "      <td>SEXQLWLZEMBFC</td>\n",
              "      <td>Ads</td>\n",
              "      <td>IE</td>\n",
              "      <td>M</td>\n",
              "      <td>36</td>\n",
              "      <td>3.180896e+09</td>\n",
              "    </tr>\n",
              "    <tr>\n",
              "      <th>46626</th>\n",
              "      <td>202506</td>\n",
              "      <td>2015-02-06 04:43:54</td>\n",
              "      <td>2015-03-03 20:56:41</td>\n",
              "      <td>43</td>\n",
              "      <td>QCSEKSYMTDQEW</td>\n",
              "      <td>SEO</td>\n",
              "      <td>Chrome</td>\n",
              "      <td>F</td>\n",
              "      <td>35</td>\n",
              "      <td>3.730920e+09</td>\n",
              "    </tr>\n",
              "    <tr>\n",
              "      <th>9053</th>\n",
              "      <td>321763</td>\n",
              "      <td>2015-08-10 23:26:07</td>\n",
              "      <td>2015-08-27 03:34:18</td>\n",
              "      <td>24</td>\n",
              "      <td>JKLAOBCAXKVTB</td>\n",
              "      <td>Ads</td>\n",
              "      <td>Chrome</td>\n",
              "      <td>F</td>\n",
              "      <td>26</td>\n",
              "      <td>3.488115e+09</td>\n",
              "    </tr>\n",
              "    <tr>\n",
              "      <th>15635</th>\n",
              "      <td>91968</td>\n",
              "      <td>2015-02-13 07:15:35</td>\n",
              "      <td>2015-05-01 22:20:20</td>\n",
              "      <td>55</td>\n",
              "      <td>YSIZOCQHNEGSE</td>\n",
              "      <td>SEO</td>\n",
              "      <td>Safari</td>\n",
              "      <td>M</td>\n",
              "      <td>22</td>\n",
              "      <td>8.550833e+08</td>\n",
              "    </tr>\n",
              "  </tbody>\n",
              "</table>\n",
              "</div>"
            ],
            "text/plain": [
              "       user_id          signup_time        purchase_time  purchase_value  \\\n",
              "32979   145352  2015-02-16 13:01:04  2015-06-12 23:40:56              30   \n",
              "30067   288944  2015-02-02 10:07:32  2015-02-14 06:02:02              18   \n",
              "46626   202506  2015-02-06 04:43:54  2015-03-03 20:56:41              43   \n",
              "9053    321763  2015-08-10 23:26:07  2015-08-27 03:34:18              24   \n",
              "15635    91968  2015-02-13 07:15:35  2015-05-01 22:20:20              55   \n",
              "\n",
              "           device_id source browser sex  age    ip_address  \n",
              "32979  IKWJBCUANABZN    Ads      IE   F   34  2.811704e+09  \n",
              "30067  SEXQLWLZEMBFC    Ads      IE   M   36  3.180896e+09  \n",
              "46626  QCSEKSYMTDQEW    SEO  Chrome   F   35  3.730920e+09  \n",
              "9053   JKLAOBCAXKVTB    Ads  Chrome   F   26  3.488115e+09  \n",
              "15635  YSIZOCQHNEGSE    SEO  Safari   M   22  8.550833e+08  "
            ]
          },
          "execution_count": 24,
          "metadata": {},
          "output_type": "execute_result"
        }
      ],
      "source": [
        "X_train.head()"
      ]
    },
    {
      "cell_type": "code",
      "execution_count": null,
      "metadata": {
        "id": "zezl_G6WaMS_",
        "outputId": "c8a98214-2f03-4751-d5f0-dd33a590f5c7"
      },
      "outputs": [
        {
          "data": {
            "text/plain": [
              "32979     10060792.0\n",
              "30067      1022070.0\n",
              "46626      2218367.0\n",
              "9053       1397291.0\n",
              "15635      6707085.0\n",
              "             ...    \n",
              "41993      2077411.0\n",
              "97639      7751332.0\n",
              "95939      9931149.0\n",
              "117952     6270166.0\n",
              "43567      2329635.0\n",
              "Length: 120889, dtype: float64"
            ]
          },
          "execution_count": 25,
          "metadata": {},
          "output_type": "execute_result"
        }
      ],
      "source": [
        "import pandas as pd\n",
        "\n",
        "(pd.to_datetime(X_train['purchase_time']) - pd.to_datetime(X_train['signup_time'])).dt.total_seconds()"
      ]
    },
    {
      "cell_type": "code",
      "execution_count": null,
      "metadata": {
        "id": "WO8-z0lAaMTA"
      },
      "outputs": [],
      "source": [
        "from sklearn.base import BaseEstimator, TransformerMixin\n",
        "\n",
        "class TimeDiff(BaseEstimator, TransformerMixin):\n",
        "    def __init__(self, fmt=None):\n",
        "        self.fmt = fmt\n",
        "    \n",
        "    def _convert_to_datetime(self, series):\n",
        "        return pd.to_datetime(series, format=self.fmt)\n",
        "    \n",
        "    def fit(self, X, y=None):\n",
        "        return self\n",
        "    \n",
        "    def transform(self, X):\n",
        "        \"\"\"X is going to have two columns\"\"\"\n",
        "        t_1 = self._convert_to_datetime(X.iloc[:, 0])\n",
        "        t_2 = self._convert_to_datetime(X.iloc[:, 1])\n",
        "        \n",
        "        return (t_2 - t_1).dt.total_seconds().values.reshape(-1, 1)"
      ]
    },
    {
      "cell_type": "code",
      "execution_count": null,
      "metadata": {
        "id": "5QnSV9apaMTA"
      },
      "outputs": [],
      "source": [
        "# TimeDiff('signup_time', 'purchase_time').fit_transform(X_train)"
      ]
    },
    {
      "cell_type": "code",
      "execution_count": null,
      "metadata": {
        "id": "MDzNwnfVaMTB"
      },
      "outputs": [],
      "source": [
        "def MyColumnTransform(name, transformer, columns):\n",
        "    transformer.fit_transform(X[columns])"
      ]
    },
    {
      "cell_type": "code",
      "execution_count": null,
      "metadata": {
        "id": "zFkkFBTkaMTB"
      },
      "outputs": [],
      "source": [
        "pip_cat = Pipeline([\n",
        "    (\"encoder\", OneHotEncoder()),\n",
        "])\n",
        "\n",
        "selector = ColumnTransformer([\n",
        "    (\"numerical\", \"passthrough\", [\"age\", \"purchase_value\"]),\n",
        "    (\"categorical\", pip_cat, [\"sex\", \"browser\", \"source\"]),\n",
        "    (\"repated_devices\", IdentifyRepeats(), \"device_id\"),\n",
        "    (\"time_diff\", TimeDiff(), [\"signup_time\", \"purchase_time\"]),\n",
        "])\n",
        "\n",
        "model = Pipeline([\n",
        "    (\"selector\", selector),\n",
        "    (\"scaler\", StandardScaler()),\n",
        "    (\"classifier\", LogisticRegression(class_weight=\"balanced\"))\n",
        "])"
      ]
    },
    {
      "cell_type": "code",
      "execution_count": null,
      "metadata": {
        "id": "zCrDTqoTaMTB",
        "outputId": "04b6f27d-dd2d-4336-f295-5eeae43ff048"
      },
      "outputs": [
        {
          "data": {
            "text/plain": [
              "Pipeline(steps=[('selector',\n",
              "                 ColumnTransformer(transformers=[('numerical', 'passthrough',\n",
              "                                                  ['age', 'purchase_value']),\n",
              "                                                 ('categorical',\n",
              "                                                  Pipeline(steps=[('encoder',\n",
              "                                                                   OneHotEncoder())]),\n",
              "                                                  ['sex', 'browser', 'source']),\n",
              "                                                 ('repated_devices',\n",
              "                                                  IdentifyRepeats(),\n",
              "                                                  'device_id'),\n",
              "                                                 ('time_diff', TimeDiff(),\n",
              "                                                  ['signup_time',\n",
              "                                                   'purchase_time'])])),\n",
              "                ('scaler', StandardScaler()),\n",
              "                ('classifier', LogisticRegression(class_weight='balanced'))])"
            ]
          },
          "execution_count": 30,
          "metadata": {},
          "output_type": "execute_result"
        }
      ],
      "source": [
        "model.fit(X_train, y_train)"
      ]
    },
    {
      "cell_type": "code",
      "execution_count": null,
      "metadata": {
        "id": "Shodc9hvaMTC",
        "outputId": "9d43e264-e393-4040-8aec-401c000c796c"
      },
      "outputs": [
        {
          "name": "stdout",
          "output_type": "stream",
          "text": [
            "Training recall: 0.676745\n",
            "Training F-1 score: 0.61357\n"
          ]
        }
      ],
      "source": [
        "evaluate_model(model, X_train, y_train, \"Training\")"
      ]
    },
    {
      "cell_type": "code",
      "execution_count": null,
      "metadata": {
        "id": "tjaobgAhaMTD",
        "outputId": "19b5674c-73d0-41dd-89bc-8589b560483a"
      },
      "outputs": [
        {
          "name": "stdout",
          "output_type": "stream",
          "text": [
            "Training recall: 0.562928\n",
            "Training F-1 score: 0.693162\n"
          ]
        }
      ],
      "source": [
        "evaluate_model(model, X_test, y_test, \"Training\")"
      ]
    },
    {
      "cell_type": "code",
      "execution_count": null,
      "metadata": {
        "id": "NDblhX3ZaMTE",
        "outputId": "6416bf1b-8b82-4040-dd84-95a49b4948af"
      },
      "outputs": [
        {
          "data": {
            "text/plain": [
              "-37.31658794431255"
            ]
          },
          "execution_count": 33,
          "metadata": {},
          "output_type": "execute_result"
        }
      ],
      "source": [
        "cost_func(model, X_train, y_train) / X_train.shape[0]"
      ]
    },
    {
      "cell_type": "code",
      "execution_count": null,
      "metadata": {
        "id": "0o1zRJKFaMTF",
        "outputId": "9a04077c-d8d4-4f9c-fb8c-f7d38f1030d0"
      },
      "outputs": [
        {
          "data": {
            "text/plain": [
              "-36.84445620884757"
            ]
          },
          "execution_count": 34,
          "metadata": {},
          "output_type": "execute_result"
        }
      ],
      "source": [
        "cost_func(model, X_test, y_test) / X_test.shape[0]"
      ]
    },
    {
      "cell_type": "markdown",
      "metadata": {
        "id": "Lij_dZ0QaMTL"
      },
      "source": [
        "### Tune hyper parameters"
      ]
    },
    {
      "cell_type": "code",
      "execution_count": null,
      "metadata": {
        "id": "hmFW_xyAaMTM"
      },
      "outputs": [],
      "source": [
        "import numpy as np\n",
        "from sklearn.model_selection import GridSearchCV\n",
        "\n",
        "param_grid = {\"C\": np.logspace(-2, 2), \"class_weight\": [\"balanced\", None]}\n",
        "grid_search = GridSearchCV(LogisticRegression(), param_grid, cv=5, verbose=1)\n",
        "\n",
        "model = Pipeline([\n",
        "    (\"selector\", selector),\n",
        "    (\"scaler\", StandardScaler()),\n",
        "    (\"classifier\", grid_search)\n",
        "])"
      ]
    },
    {
      "cell_type": "code",
      "execution_count": null,
      "metadata": {
        "id": "3mbzqHwGaMTN",
        "outputId": "47ddba22-46c8-498d-fa9e-20c3521118ee"
      },
      "outputs": [
        {
          "name": "stdout",
          "output_type": "stream",
          "text": [
            "Fitting 5 folds for each of 100 candidates, totalling 500 fits\n"
          ]
        },
        {
          "name": "stderr",
          "output_type": "stream",
          "text": [
            "[Parallel(n_jobs=1)]: Using backend SequentialBackend with 1 concurrent workers.\n",
            "[Parallel(n_jobs=1)]: Done 500 out of 500 | elapsed:  1.2min finished\n"
          ]
        },
        {
          "data": {
            "text/plain": [
              "Pipeline(steps=[('selector',\n",
              "                 ColumnTransformer(transformers=[('numerical', 'passthrough',\n",
              "                                                  ['age', 'purchase_value']),\n",
              "                                                 ('categorical',\n",
              "                                                  Pipeline(steps=[('encoder',\n",
              "                                                                   OneHotEncoder())]),\n",
              "                                                  ['sex', 'browser', 'source']),\n",
              "                                                 ('repated_devices',\n",
              "                                                  IdentifyRepeats(),\n",
              "                                                  'device_id'),\n",
              "                                                 ('time_diff', TimeDiff(),\n",
              "                                                  ['signup_time',\n",
              "                                                   'purchase_time'])])),\n",
              "                ('scaler', StandardScaler()),\n",
              "                ('classifi...\n",
              "       1.93069773e+00, 2.32995181e+00, 2.81176870e+00, 3.39322177e+00,\n",
              "       4.09491506e+00, 4.94171336e+00, 5.96362332e+00, 7.19685673e+00,\n",
              "       8.68511374e+00, 1.04811313e+01, 1.26485522e+01, 1.52641797e+01,\n",
              "       1.84206997e+01, 2.22299648e+01, 2.68269580e+01, 3.23745754e+01,\n",
              "       3.90693994e+01, 4.71486636e+01, 5.68986603e+01, 6.86648845e+01,\n",
              "       8.28642773e+01, 1.00000000e+02]),\n",
              "                                          'class_weight': ['balanced', None]},\n",
              "                              verbose=1))])"
            ]
          },
          "execution_count": 36,
          "metadata": {},
          "output_type": "execute_result"
        }
      ],
      "source": [
        "model.fit(X_train, y_train)"
      ]
    },
    {
      "cell_type": "code",
      "execution_count": null,
      "metadata": {
        "id": "suano78naMTQ",
        "outputId": "2b7950ad-5460-4265-a918-840920aae526"
      },
      "outputs": [
        {
          "data": {
            "text/plain": [
              "{'C': 0.01, 'class_weight': None}"
            ]
          },
          "execution_count": 37,
          "metadata": {},
          "output_type": "execute_result"
        }
      ],
      "source": [
        "model[-1].best_params_"
      ]
    },
    {
      "cell_type": "code",
      "execution_count": null,
      "metadata": {
        "id": "9zWfYkX-aMTS",
        "outputId": "a97c5ab8-f444-49bc-dac0-10d6f203836e"
      },
      "outputs": [
        {
          "name": "stdout",
          "output_type": "stream",
          "text": [
            "Training recall: 0.591668\n",
            "Training F-1 score: 0.657743\n"
          ]
        }
      ],
      "source": [
        "evaluate_model(model, X_train, y_train, \"Training\")"
      ]
    },
    {
      "cell_type": "code",
      "execution_count": null,
      "metadata": {
        "id": "2Zmj-TXEaMTT",
        "outputId": "9d8f2ae2-f628-4fc7-9354-8c646982a1f9"
      },
      "outputs": [
        {
          "name": "stdout",
          "output_type": "stream",
          "text": [
            "Testing recall: 0.557519\n",
            "Testing F-1 score: 0.704488\n"
          ]
        }
      ],
      "source": [
        "evaluate_model(model, X_test, y_test, \"Testing\")"
      ]
    },
    {
      "cell_type": "code",
      "execution_count": null,
      "metadata": {
        "id": "vbgbtN6vaMTV",
        "outputId": "dfb0ca12-b6cf-4197-edc2-66e488df1562"
      },
      "outputs": [
        {
          "data": {
            "text/plain": [
              "-37.10460008768374"
            ]
          },
          "execution_count": 40,
          "metadata": {},
          "output_type": "execute_result"
        }
      ],
      "source": [
        "cost_func(model, X_train, y_train) / X_train.shape[0]"
      ]
    },
    {
      "cell_type": "code",
      "execution_count": null,
      "metadata": {
        "id": "s5UlpL_caMTV",
        "outputId": "4357a8da-a75d-4617-a2b0-14aebe7f3782"
      },
      "outputs": [
        {
          "data": {
            "text/plain": [
              "-36.82129504020117"
            ]
          },
          "execution_count": 41,
          "metadata": {},
          "output_type": "execute_result"
        }
      ],
      "source": [
        "cost_func(model, X_test, y_test) / X_test.shape[0]"
      ]
    },
    {
      "cell_type": "code",
      "execution_count": null,
      "metadata": {
        "id": "XoCNhjfWaMTW"
      },
      "outputs": [],
      "source": [
        "GridSearchCV?"
      ]
    },
    {
      "cell_type": "markdown",
      "metadata": {
        "id": "RzCINGSSaMTX"
      },
      "source": [
        "### Let's try our custom loss function"
      ]
    },
    {
      "cell_type": "code",
      "execution_count": null,
      "metadata": {
        "id": "MVgA83tGaMTY"
      },
      "outputs": [],
      "source": [
        "def cost_func(model, X, y_true):\n",
        "    \"\"\"\n",
        "    Return cost of model based upon FP and FN\n",
        "    Cost = 7 * FP + purchase value of each FN\n",
        "    \"\"\"\n",
        "    y_pred = model.predict(X)\n",
        "    FP = (y_pred & ~y_true).sum()\n",
        "    \n",
        "    # FN: we say it's NOT fraudelent (y = 0) AND it's truely Fraudelent (y_true = 1)\n",
        "    FN = X.loc[(~y_pred & y_true).index, \"purchase_value\"].sum()\n",
        "    \n",
        "    return -(7 * FP + FN)"
      ]
    },
    {
      "cell_type": "code",
      "execution_count": null,
      "metadata": {
        "id": "ksi_2t5_aMTb",
        "outputId": "3db13705-f7ee-42a8-b77f-42bd3e993404"
      },
      "outputs": [
        {
          "name": "stdout",
          "output_type": "stream",
          "text": [
            "Fitting 5 folds for each of 100 candidates, totalling 500 fits\n"
          ]
        },
        {
          "name": "stderr",
          "output_type": "stream",
          "text": [
            "[Parallel(n_jobs=1)]: Using backend SequentialBackend with 1 concurrent workers.\n",
            "[Parallel(n_jobs=1)]: Done 500 out of 500 | elapsed:  4.8min finished\n"
          ]
        },
        {
          "data": {
            "text/plain": [
              "GridSearchCV(cv=5,\n",
              "             estimator=Pipeline(steps=[('selector',\n",
              "                                        ColumnTransformer(transformers=[('numerical',\n",
              "                                                                         'passthrough',\n",
              "                                                                         ['age',\n",
              "                                                                          'purchase_value']),\n",
              "                                                                        ('categorical',\n",
              "                                                                         Pipeline(steps=[('encoder',\n",
              "                                                                                          OneHotEncoder())]),\n",
              "                                                                         ['sex',\n",
              "                                                                          'browser',\n",
              "                                                                          'source']),\n",
              "                                                                        ('repated_devices',\n",
              "                                                                         IdentifyRepeats(),\n",
              "                                                                         'device_id'),\n",
              "                                                                        ('time_diff',\n",
              "                                                                         TimeDiff(),\n",
              "                                                                         ['signup_time',\n",
              "                                                                          'purchase_time'])])),\n",
              "                                       ('scaler',...\n",
              "       4.09491506e+00, 4.94171336e+00, 5.96362332e+00, 7.19685673e+00,\n",
              "       8.68511374e+00, 1.04811313e+01, 1.26485522e+01, 1.52641797e+01,\n",
              "       1.84206997e+01, 2.22299648e+01, 2.68269580e+01, 3.23745754e+01,\n",
              "       3.90693994e+01, 4.71486636e+01, 5.68986603e+01, 6.86648845e+01,\n",
              "       8.28642773e+01, 1.00000000e+02]),\n",
              "                         'classifier__class_weight': ['balanced', None]},\n",
              "             scoring=<function cost_func at 0x7fb582b3e670>, verbose=1)"
            ]
          },
          "execution_count": 60,
          "metadata": {},
          "output_type": "execute_result"
        }
      ],
      "source": [
        "param_grid = {\"classifier__C\": np.logspace(-2, 2), \"classifier__class_weight\": [\"balanced\", None]}\n",
        "\n",
        "model = Pipeline([\n",
        "    (\"selector\", selector),\n",
        "    (\"scaler\", StandardScaler()),\n",
        "    (\"classifier\", LogisticRegression())\n",
        "])\n",
        "\n",
        "grid_search = GridSearchCV(model, param_grid, cv=5, verbose=1, scoring=cost_func)\n",
        "\n",
        "grid_search.fit(X_train, y_train)"
      ]
    },
    {
      "cell_type": "code",
      "execution_count": null,
      "metadata": {
        "id": "W8bs-A4_aMTg",
        "outputId": "a6a21dc7-2a30-4f15-ae4e-dd50aa879d09"
      },
      "outputs": [
        {
          "data": {
            "text/plain": [
              "-894262.8"
            ]
          },
          "execution_count": 65,
          "metadata": {},
          "output_type": "execute_result"
        }
      ],
      "source": [
        "grid_search.best_score_"
      ]
    },
    {
      "cell_type": "code",
      "execution_count": null,
      "metadata": {
        "id": "w0a26gjcaMTj",
        "outputId": "52706955-abfe-4e16-fdcb-ecea20c82356"
      },
      "outputs": [
        {
          "data": {
            "text/plain": [
              "-37.10460008768374"
            ]
          },
          "execution_count": 67,
          "metadata": {},
          "output_type": "execute_result"
        }
      ],
      "source": [
        "cost_func(grid_search, X_train, y_train) / X_train.shape[0]"
      ]
    },
    {
      "cell_type": "code",
      "execution_count": null,
      "metadata": {
        "id": "4NdSwSFUaMTk",
        "outputId": "087fb791-408f-4894-9d04-0eabeacfbfe2"
      },
      "outputs": [
        {
          "data": {
            "text/plain": [
              "-36.82129504020117"
            ]
          },
          "execution_count": 68,
          "metadata": {},
          "output_type": "execute_result"
        }
      ],
      "source": [
        "cost_func(grid_search, X_test, y_test) / X_test.shape[0]"
      ]
    },
    {
      "cell_type": "code",
      "execution_count": null,
      "metadata": {
        "id": "PA4cC7dRaMTl"
      },
      "outputs": [],
      "source": [
        ""
      ]
    }
  ],
  "metadata": {
    "kernelspec": {
      "display_name": "Python 3",
      "language": "python",
      "name": "python3"
    },
    "language_info": {
      "codemirror_mode": {
        "name": "ipython",
        "version": 3
      },
      "file_extension": ".py",
      "mimetype": "text/x-python",
      "name": "python",
      "nbconvert_exporter": "python",
      "pygments_lexer": "ipython3",
      "version": "3.8.8"
    },
    "colab": {
      "name": "Fraud_Feature Engineering.ipynb",
      "provenance": []
    }
  },
  "nbformat": 4,
  "nbformat_minor": 0
}